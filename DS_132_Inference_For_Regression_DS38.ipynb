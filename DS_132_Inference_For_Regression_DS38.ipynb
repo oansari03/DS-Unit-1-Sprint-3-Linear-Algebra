{
  "cells": [
    {
      "cell_type": "markdown",
      "metadata": {
        "id": "view-in-github",
        "colab_type": "text"
      },
      "source": [
        "<a href=\"https://colab.research.google.com/github/oansari03/DS-Unit-1-Sprint-3-Linear-Algebra/blob/master/DS_132_Inference_For_Regression_DS38.ipynb\" target=\"_parent\"><img src=\"https://colab.research.google.com/assets/colab-badge.svg\" alt=\"Open In Colab\"/></a>"
      ]
    },
    {
      "cell_type": "markdown",
      "metadata": {
        "id": "RQw2GTc8oDRw"
      },
      "source": [
        "Unit 1, Sprint 3, Module 1\n",
        "\n",
        "###Learning Objectives:\n",
        "- Identify the appropriate hypotheses to test for a statistically significant relationship between two quantitative variables\n",
        "- Conduct and interpret a t-test for the slope parameter\n",
        "- Identify the appropriate parts of the output of a linear regression model and use them to build a confidence interval for the slope term.\n",
        "- Make the connection between the t-test for a population mean and a t-test for a slope coefficient.\n",
        "- Identify violations of the assumptions for linear regression"
      ]
    },
    {
      "cell_type": "markdown",
      "metadata": {
        "id": "1eiGjWWZEYgf"
      },
      "source": [
        "#Objective - Identify the appropriate hypotheses to test for a statistically significant relationship between two quantitative variables"
      ]
    },
    {
      "cell_type": "markdown",
      "metadata": {
        "id": "uhmdnOzupL1N"
      },
      "source": [
        "### Returning to our forensic science example:\n",
        "\n"
      ]
    },
    {
      "cell_type": "markdown",
      "metadata": {
        "id": "K1ExqvbepUkB"
      },
      "source": [
        "Anyone who is a fan of detective TV shows has watched a scene where human remains are discovered and some sort of expert is called in to determine when the person died. But is this science fiction or science fact? Is it possible to use evidence from skeletal remains to determine how long a body has been buried (a decent approximation of how long the person has been dead)? \n",
        "\n",
        "\n"
      ]
    },
    {
      "cell_type": "markdown",
      "metadata": {
        "id": "OypdMHJop6bQ"
      },
      "source": [
        "Researchers sampled long bone material from bodies exhumed from coffin burials in two cemeteries in England. In each case, date of death and burial (and therefore interment time) was known. This data is given in the Longbones.csv dataset. "
      ]
    },
    {
      "cell_type": "markdown",
      "metadata": {
        "id": "lM5t4Yajp8mH"
      },
      "source": [
        "**We wish to determine if there is a relationship between the nitrogen composition of the long bones of the skeleton and the length of time the body was interred.**\n",
        "\n",
        "Source: D.R. Jarvis (1997). \"Nitrogen Levels in Long Bones from Coffin Burials Interred for Periods of 26-90 Years,\" Forensic Science International, Vol85, pp199-208"
      ]
    },
    {
      "cell_type": "code",
      "execution_count": null,
      "metadata": {
        "id": "sJegaDmRn0a6",
        "colab": {
          "base_uri": "https://localhost:8080/",
          "height": 206
        },
        "outputId": "68dd9071-471f-48b4-c20d-3ff2937e9a41"
      },
      "outputs": [
        {
          "output_type": "execute_result",
          "data": {
            "text/plain": [
              "   Site  Time  Depth  Lime   Age  Nitro  Oil\n",
              "3     1  71.8    7.6     1  65.0   3.88    0\n",
              "4     1  70.6    7.5     1  42.0   3.53    0\n",
              "5     1  68.0    7.0     1  28.0   3.93    0\n",
              "6     1  71.6    8.0     1  35.0   3.88    0\n",
              "7     1  70.2    6.0     1  44.0   3.64    0"
            ],
            "text/html": [
              "\n",
              "  <div id=\"df-034cfb55-febd-49d3-af0f-66820dcb7fb9\">\n",
              "    <div class=\"colab-df-container\">\n",
              "      <div>\n",
              "<style scoped>\n",
              "    .dataframe tbody tr th:only-of-type {\n",
              "        vertical-align: middle;\n",
              "    }\n",
              "\n",
              "    .dataframe tbody tr th {\n",
              "        vertical-align: top;\n",
              "    }\n",
              "\n",
              "    .dataframe thead th {\n",
              "        text-align: right;\n",
              "    }\n",
              "</style>\n",
              "<table border=\"1\" class=\"dataframe\">\n",
              "  <thead>\n",
              "    <tr style=\"text-align: right;\">\n",
              "      <th></th>\n",
              "      <th>Site</th>\n",
              "      <th>Time</th>\n",
              "      <th>Depth</th>\n",
              "      <th>Lime</th>\n",
              "      <th>Age</th>\n",
              "      <th>Nitro</th>\n",
              "      <th>Oil</th>\n",
              "    </tr>\n",
              "  </thead>\n",
              "  <tbody>\n",
              "    <tr>\n",
              "      <th>3</th>\n",
              "      <td>1</td>\n",
              "      <td>71.8</td>\n",
              "      <td>7.6</td>\n",
              "      <td>1</td>\n",
              "      <td>65.0</td>\n",
              "      <td>3.88</td>\n",
              "      <td>0</td>\n",
              "    </tr>\n",
              "    <tr>\n",
              "      <th>4</th>\n",
              "      <td>1</td>\n",
              "      <td>70.6</td>\n",
              "      <td>7.5</td>\n",
              "      <td>1</td>\n",
              "      <td>42.0</td>\n",
              "      <td>3.53</td>\n",
              "      <td>0</td>\n",
              "    </tr>\n",
              "    <tr>\n",
              "      <th>5</th>\n",
              "      <td>1</td>\n",
              "      <td>68.0</td>\n",
              "      <td>7.0</td>\n",
              "      <td>1</td>\n",
              "      <td>28.0</td>\n",
              "      <td>3.93</td>\n",
              "      <td>0</td>\n",
              "    </tr>\n",
              "    <tr>\n",
              "      <th>6</th>\n",
              "      <td>1</td>\n",
              "      <td>71.6</td>\n",
              "      <td>8.0</td>\n",
              "      <td>1</td>\n",
              "      <td>35.0</td>\n",
              "      <td>3.88</td>\n",
              "      <td>0</td>\n",
              "    </tr>\n",
              "    <tr>\n",
              "      <th>7</th>\n",
              "      <td>1</td>\n",
              "      <td>70.2</td>\n",
              "      <td>6.0</td>\n",
              "      <td>1</td>\n",
              "      <td>44.0</td>\n",
              "      <td>3.64</td>\n",
              "      <td>0</td>\n",
              "    </tr>\n",
              "  </tbody>\n",
              "</table>\n",
              "</div>\n",
              "      <button class=\"colab-df-convert\" onclick=\"convertToInteractive('df-034cfb55-febd-49d3-af0f-66820dcb7fb9')\"\n",
              "              title=\"Convert this dataframe to an interactive table.\"\n",
              "              style=\"display:none;\">\n",
              "        \n",
              "  <svg xmlns=\"http://www.w3.org/2000/svg\" height=\"24px\"viewBox=\"0 0 24 24\"\n",
              "       width=\"24px\">\n",
              "    <path d=\"M0 0h24v24H0V0z\" fill=\"none\"/>\n",
              "    <path d=\"M18.56 5.44l.94 2.06.94-2.06 2.06-.94-2.06-.94-.94-2.06-.94 2.06-2.06.94zm-11 1L8.5 8.5l.94-2.06 2.06-.94-2.06-.94L8.5 2.5l-.94 2.06-2.06.94zm10 10l.94 2.06.94-2.06 2.06-.94-2.06-.94-.94-2.06-.94 2.06-2.06.94z\"/><path d=\"M17.41 7.96l-1.37-1.37c-.4-.4-.92-.59-1.43-.59-.52 0-1.04.2-1.43.59L10.3 9.45l-7.72 7.72c-.78.78-.78 2.05 0 2.83L4 21.41c.39.39.9.59 1.41.59.51 0 1.02-.2 1.41-.59l7.78-7.78 2.81-2.81c.8-.78.8-2.07 0-2.86zM5.41 20L4 18.59l7.72-7.72 1.47 1.35L5.41 20z\"/>\n",
              "  </svg>\n",
              "      </button>\n",
              "      \n",
              "  <style>\n",
              "    .colab-df-container {\n",
              "      display:flex;\n",
              "      flex-wrap:wrap;\n",
              "      gap: 12px;\n",
              "    }\n",
              "\n",
              "    .colab-df-convert {\n",
              "      background-color: #E8F0FE;\n",
              "      border: none;\n",
              "      border-radius: 50%;\n",
              "      cursor: pointer;\n",
              "      display: none;\n",
              "      fill: #1967D2;\n",
              "      height: 32px;\n",
              "      padding: 0 0 0 0;\n",
              "      width: 32px;\n",
              "    }\n",
              "\n",
              "    .colab-df-convert:hover {\n",
              "      background-color: #E2EBFA;\n",
              "      box-shadow: 0px 1px 2px rgba(60, 64, 67, 0.3), 0px 1px 3px 1px rgba(60, 64, 67, 0.15);\n",
              "      fill: #174EA6;\n",
              "    }\n",
              "\n",
              "    [theme=dark] .colab-df-convert {\n",
              "      background-color: #3B4455;\n",
              "      fill: #D2E3FC;\n",
              "    }\n",
              "\n",
              "    [theme=dark] .colab-df-convert:hover {\n",
              "      background-color: #434B5C;\n",
              "      box-shadow: 0px 1px 3px 1px rgba(0, 0, 0, 0.15);\n",
              "      filter: drop-shadow(0px 1px 2px rgba(0, 0, 0, 0.3));\n",
              "      fill: #FFFFFF;\n",
              "    }\n",
              "  </style>\n",
              "\n",
              "      <script>\n",
              "        const buttonEl =\n",
              "          document.querySelector('#df-034cfb55-febd-49d3-af0f-66820dcb7fb9 button.colab-df-convert');\n",
              "        buttonEl.style.display =\n",
              "          google.colab.kernel.accessAllowed ? 'block' : 'none';\n",
              "\n",
              "        async function convertToInteractive(key) {\n",
              "          const element = document.querySelector('#df-034cfb55-febd-49d3-af0f-66820dcb7fb9');\n",
              "          const dataTable =\n",
              "            await google.colab.kernel.invokeFunction('convertToInteractive',\n",
              "                                                     [key], {});\n",
              "          if (!dataTable) return;\n",
              "\n",
              "          const docLinkHtml = 'Like what you see? Visit the ' +\n",
              "            '<a target=\"_blank\" href=https://colab.research.google.com/notebooks/data_table.ipynb>data table notebook</a>'\n",
              "            + ' to learn more about interactive tables.';\n",
              "          element.innerHTML = '';\n",
              "          dataTable['output_type'] = 'display_data';\n",
              "          await google.colab.output.renderOutput(dataTable, element);\n",
              "          const docLink = document.createElement('div');\n",
              "          docLink.innerHTML = docLinkHtml;\n",
              "          element.appendChild(docLink);\n",
              "        }\n",
              "      </script>\n",
              "    </div>\n",
              "  </div>\n",
              "  "
            ]
          },
          "metadata": {},
          "execution_count": 1
        }
      ],
      "source": [
        "#Import the Longbones.csv dataset from a URL and print the first few rows\n",
        "\n",
        "import pandas as pd\n",
        "import numpy as np\n",
        "\n",
        "\n",
        "data_url = 'https://raw.githubusercontent.com/bloominstituteoftechnology/data-science-practice-datasets/main/unit_1/Longbones/Longbones.csv'\n",
        "\n",
        "df = pd.read_csv(data_url, skipinitialspace=True, header=0)\n",
        "\n",
        "#Drop records with NAs and rename the dataset longbones\n",
        "\n",
        "longbones = df.dropna()\n",
        "\n",
        "longbones.head()"
      ]
    },
    {
      "cell_type": "markdown",
      "metadata": {
        "id": "UygPGJ5Iq4zZ"
      },
      "source": [
        "At the point we left off, we calculated the linear regression line that models the relationship between long bone nitrogen composition and interment time."
      ]
    },
    {
      "cell_type": "code",
      "execution_count": null,
      "metadata": {
        "id": "aCcew3SNelyc",
        "colab": {
          "base_uri": "https://localhost:8080/"
        },
        "outputId": "cc851d44-da7f-4c00-e05f-7f2416d883d4"
      },
      "outputs": [
        {
          "output_type": "execute_result",
          "data": {
            "text/plain": [
              "Intercept    316.805323\n",
              "Nitro        -69.242709\n",
              "dtype: float64"
            ]
          },
          "metadata": {},
          "execution_count": 3
        }
      ],
      "source": [
        "from statsmodels.formula.api import ols \n",
        "\n",
        "model = ols(\"Time ~ Nitro\", data= longbones).fit()\n",
        "\n",
        "model.params"
      ]
    },
    {
      "cell_type": "markdown",
      "metadata": {
        "id": "q5ese6fvrSBQ"
      },
      "source": [
        "We used those model coefficients to write the least squares regression line\n",
        "\n",
        "$\\hat{Y} = 316.8 - 69.24 X$"
      ]
    },
    {
      "cell_type": "markdown",
      "metadata": {
        "id": "n2D0DmCwru_g"
      },
      "source": [
        "And we illustrated the linear regression model graphically by overlaying it on top of the scatterplot of nitrogen composition and interment time."
      ]
    },
    {
      "cell_type": "code",
      "execution_count": null,
      "metadata": {
        "id": "b-mxPZMdfWld",
        "colab": {
          "base_uri": "https://localhost:8080/",
          "height": 387
        },
        "outputId": "047f4fee-2aec-4410-f4e7-1dce877ddc1d"
      },
      "outputs": [
        {
          "output_type": "execute_result",
          "data": {
            "text/plain": [
              "<seaborn.axisgrid.FacetGrid at 0x7f5ff58f4fd0>"
            ]
          },
          "metadata": {},
          "execution_count": 6
        },
        {
          "output_type": "display_data",
          "data": {
            "text/plain": [
              "<Figure size 360x360 with 1 Axes>"
            ],
            "image/png": "[encoded data removed]"
          },
          "metadata": {
            "needs_background": "light"
          }
        }
      ],
      "source": [
        "import seaborn as sns\n",
        "sns.lmplot(x= \"Nitro\", y=\"Time\", data=longbones, ci= None)"
      ]
    },
    {
      "cell_type": "markdown",
      "metadata": {
        "id": "s5AsLaQitiEX"
      },
      "source": [
        "However, there is an important point we haven't addressed yet:\n",
        "\n",
        "We have only described the relationship between nitrogen composition and interment time for the skeletons sample.  We want to know what (if anything) we can say about the the relationship between long bone nitrogen composition and interment time population."
      ]
    },
    {
      "cell_type": "markdown",
      "metadata": {
        "id": "p-dC58hMvRYt"
      },
      "source": [
        "As with the t-test and chi-square test last week, we wish to make a inference about the relationship between nitrogen composition and interment time in the entire population.\n",
        "\n",
        "To do that, we're going to have to conduct a statistical hypothesis test."
      ]
    },
    {
      "cell_type": "markdown",
      "metadata": {
        "id": "W5vJuq1xgaBH"
      },
      "source": [
        "A quick aside about notation:\n",
        "\n",
        "\n",
        "When we talked about the t-test last week, we used the symbol $μ$ to represent the population mean and $\\bar{x}$ to represent the sample mean.\n",
        "\n",
        "Similarly, we will use $\\beta_0$ and $\\beta_1$ to represent the population intercept and population slope, respectively, and $b_0$ and $b_1$ to represent the sample intercept and sample slope, respectively.\n"
      ]
    },
    {
      "cell_type": "markdown",
      "metadata": {
        "id": "9sO8a15ju6IE"
      },
      "source": [
        "Sample model: $\\hat{y} = b_0 + b_1x$\n",
        "\n",
        "Population model: $\\hat{y} = \\beta_0 + \\beta_1x$"
      ]
    },
    {
      "cell_type": "markdown",
      "metadata": {
        "id": "6OyR7PpmiSGP"
      },
      "source": [
        "So - just like when we did the t-test for a population mean - our hypotheses will make claims about the population slope and/or intercept - not the sample slope and/or intercept."
      ]
    },
    {
      "cell_type": "markdown",
      "metadata": {
        "id": "j4XyDTnVEjQp"
      },
      "source": [
        "#Objective - Conduct and interpret a t-test for the slope parameter"
      ]
    },
    {
      "cell_type": "markdown",
      "metadata": {
        "id": "jZ-3QNFtimi6"
      },
      "source": [
        "When testing for a statistically significant relationship between two quantitative variables in regression, the null hypothesis is **always** is that the slope of the value will be equal to 0. \n",
        "\n",
        "In other words, this translates to there being no linear relationship between the two variables, or that the variables are not related. "
      ]
    },
    {
      "cell_type": "markdown",
      "metadata": {
        "id": "FQTI936JjORz"
      },
      "source": [
        "In symbolic notation, we write this as:\n",
        "\n",
        "Ho: = 0"
      ]
    },
    {
      "cell_type": "markdown",
      "metadata": {
        "id": "wACsDcYPjVc3"
      },
      "source": [
        "The alternative hypothesis - unsurprisingly - is that the slope is not equal to zero. \n",
        "\n",
        "In other words, this translates to there being is a linear relationship between the two variables, or that the variables are related"
      ]
    },
    {
      "cell_type": "markdown",
      "metadata": {
        "id": "AjgG-19Njg0Z"
      },
      "source": [
        "In symbolic notation:\n",
        "\n",
        "Ha: $\\neq 0$"
      ]
    },
    {
      "cell_type": "markdown",
      "metadata": {
        "id": "gyLxgCnZkFQq"
      },
      "source": [
        "Let's look at a picture to make this idea concrete.  "
      ]
    },
    {
      "cell_type": "markdown",
      "metadata": {
        "id": "zLLsmEwhkJRi"
      },
      "source": [
        "![Zero slope.png](data:image/png;base64,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)"
      ]
    },
    {
      "cell_type": "markdown",
      "metadata": {
        "id": "AfytuOXykQ-V"
      },
      "source": [
        "In the first two cases, there is no apparent relationship between x and y and the slope of the regression line appears flat.  (Note that in a) y = 0 no matter what x is).\n",
        "\n",
        "In c) and d) there is clearly a pretty strong relationship between the two variables and the lines have a non-zero slope."
      ]
    },
    {
      "cell_type": "markdown",
      "metadata": {
        "id": "GW0GOOgVk4ik"
      },
      "source": [
        "That leads us back to our original question, **\"Is long bone nitrogen composition statistically significantly associated with interment time?\"**"
      ]
    },
    {
      "cell_type": "markdown",
      "metadata": {
        "id": "UIqgn0THlinM"
      },
      "source": [
        "The null hypothesis is that they are unrelated and the slope is = 0.  The alternative hypothesis is that they are related and the slope is not equal to 0.  In symbolic notation:\n",
        "\n",
        "Ho: $\\beta_1$ = 0\n",
        "\n",
        "Ha: $\\beta_1 \\neq$ 0"
      ]
    },
    {
      "cell_type": "markdown",
      "metadata": {
        "id": "yRS17W1GEpZF"
      },
      "source": [
        "#Objective - Identify the appropriate parts of the output of a linear regression model and use them to build a confidence interval for the slope term."
      ]
    },
    {
      "cell_type": "markdown",
      "metadata": {
        "id": "3JCPzn9EmEl7"
      },
      "source": [
        "The model we fit yesterday will do a lot more than just print the model parameters!  "
      ]
    },
    {
      "cell_type": "code",
      "execution_count": null,
      "metadata": {
        "id": "sVZOz0j8xLb4",
        "colab": {
          "base_uri": "https://localhost:8080/"
        },
        "outputId": "f54abd27-cc88-4ca1-f746-55876340bb83"
      },
      "outputs": [
        {
          "output_type": "stream",
          "name": "stdout",
          "text": [
            "                            OLS Regression Results                            \n",
            "==============================================================================\n",
            "Dep. Variable:                   Time   R-squared:                       0.450\n",
            "Model:                            OLS   Adj. R-squared:                  0.433\n",
            "Method:                 Least Squares   F-statistic:                     26.96\n",
            "Date:                Mon, 28 Mar 2022   Prob (F-statistic):           1.05e-05\n",
            "Time:                        16:28:41   Log-Likelihood:                -141.08\n",
            "No. Observations:                  35   AIC:                             286.2\n",
            "Df Residuals:                      33   BIC:                             289.3\n",
            "Df Model:                           1                                         \n",
            "Covariance Type:            nonrobust                                         \n",
            "==============================================================================\n",
            "                 coef    std err          t      P>|t|      [0.025      0.975]\n",
            "------------------------------------------------------------------------------\n",
            "Intercept    316.8053     50.679      6.251      0.000     213.698     419.912\n",
            "Nitro        -69.2427     13.336     -5.192      0.000     -96.375     -42.110\n",
            "==============================================================================\n",
            "Omnibus:                        5.682   Durbin-Watson:                   1.325\n",
            "Prob(Omnibus):                  0.058   Jarque-Bera (JB):                2.336\n",
            "Skew:                           0.294   Prob(JB):                        0.311\n",
            "Kurtosis:                       1.880   Cond. No.                         86.8\n",
            "==============================================================================\n",
            "\n",
            "Warnings:\n",
            "[1] Standard Errors assume that the covariance matrix of the errors is correctly specified.\n"
          ]
        }
      ],
      "source": [
        "print(model.summary())\n"
      ]
    },
    {
      "cell_type": "markdown",
      "metadata": {
        "id": "4eJsXuRLxKrz"
      },
      "source": [
        "Right now we just want to look at the middle part of the table where we see the headings coef, std error, t, etc."
      ]
    },
    {
      "cell_type": "markdown",
      "metadata": {
        "id": "9VLKDiESxJSR"
      },
      "source": [
        "We should recognize the values under coef from yesterday. These are the model coefficients that we included in our linear regression model:\n",
        "\n",
        "$\\hat{Y} = 316.8 - 69.24 X$"
      ]
    },
    {
      "cell_type": "markdown",
      "metadata": {
        "id": "jXvMYjhBoWWy"
      },
      "source": [
        "First off, now that we've written the linear model, we can pretty much ignore the row for the intercept term.  In 99.99% of cases we don't do inference on the intercept.  It's only there to make the math work out.\n",
        "\n"
      ]
    },
    {
      "cell_type": "markdown",
      "metadata": {
        "id": "GI170a6-o6hx"
      },
      "source": [
        "Instead, we can concentrate on the row for the slope term.  We can pick out that row because it's labeled \"Nitro\", which is the independent variable."
      ]
    },
    {
      "cell_type": "markdown",
      "metadata": {
        "id": "Zhj_5D2bpJIR"
      },
      "source": [
        "Reading from left to right, we have the slope coefficient -69.24.  We know what that is already.\n",
        "\n",
        "The next three entries in the table are the standard error of the slope (std err), a t-statistic (t) and a p-value for our hypothesis test (P > |t|). "
      ]
    },
    {
      "cell_type": "markdown",
      "metadata": {
        "id": "ZmudwLDEExNZ"
      },
      "source": [
        "#Objective - Make the connection between the t-test for a population mean and a t-test for the slope coefficient"
      ]
    },
    {
      "cell_type": "markdown",
      "metadata": {
        "id": "N_1Es6J1pla_"
      },
      "source": [
        "Yes!  This means that we are testing our hypotheses about the slope parameter using a t-test.  "
      ]
    },
    {
      "cell_type": "markdown",
      "metadata": {
        "id": "55FQEaZup0xi"
      },
      "source": [
        "We didn't talk about it too much at the time, but for a t-test for a population mean, the t-statistic is calculated as \n",
        "\n",
        "\\begin{equation}\n",
        "t = \\frac{\\bar{x} - \\mu_0}{SE}\n",
        "\\end{equation}\n",
        "\n",
        "Where $\\bar{x}$ is the sample mean, $\\mu_0$ is the mean under the null hypothesis and SE is the standard error."
      ]
    },
    {
      "cell_type": "markdown",
      "metadata": {
        "id": "3gr8OoX8qpqY"
      },
      "source": [
        "Now, the t-statistic is calculated as \n",
        "\n",
        "\\begin{equation}\n",
        "t = \\frac{b_1 - \\beta_1}{SE}\n",
        "\\end{equation}\n",
        "\n",
        "Where $b_1$ is the slope in the sample, $\\beta_1$ is the slope under the null hypothesis and SE is the standard error."
      ]
    },
    {
      "cell_type": "markdown",
      "metadata": {
        "id": "eucccNn4rDMD"
      },
      "source": [
        "These calculations become really simple when we do inference for regression because:\n",
        "\n",
        "\n",
        "\n",
        "1.   Under Ho, $\\beta_1$ = 0\n",
        "2.   The SE is calculated for you in Python\n",
        "\n",
        "\\begin{equation}\n",
        "t = \\frac{-69.24 - 0}{13.34} = -5.192\n",
        "\\end{equation}\n"
      ]
    },
    {
      "cell_type": "markdown",
      "metadata": {
        "id": "hYfLzVVwrzH2"
      },
      "source": [
        "\n",
        "We didn't even need to calculate the t-statistic.  It was given in the output under \"t\".\n",
        "\n",
        "We don't have to calculate the p-value either, because that's given under P > |t|."
      ]
    },
    {
      "cell_type": "markdown",
      "metadata": {
        "id": "_YFlFydYsHuk"
      },
      "source": [
        "Recall that we reject the null hypothesis at 0.05 significance level.\n",
        "\n"
      ]
    },
    {
      "cell_type": "markdown",
      "metadata": {
        "id": "xc1PYc1ysan9"
      },
      "source": [
        "Looking back at our results, we see that the p-value rounds to 0.000.  That doesn't mean that the p-value is actually 0, it just means that it is less than 0.0005.  \n",
        "\n",
        "\n",
        "That's enough information for us to reject the null hypothesis at the alpha = 0.05 level (or alpha = 0.01 for that matter) and conclude that is  a statistically significant linear relationship between long bone nitrogen composition and interment time."
      ]
    },
    {
      "cell_type": "code",
      "source": [
        "print(model.summary())"
      ],
      "metadata": {
        "colab": {
          "base_uri": "https://localhost:8080/"
        },
        "id": "R8OpJGyaXW27",
        "outputId": "bc1c969e-bfa0-4758-ccef-3defd6363bb9"
      },
      "execution_count": null,
      "outputs": [
        {
          "output_type": "stream",
          "name": "stdout",
          "text": [
            "                            OLS Regression Results                            \n",
            "==============================================================================\n",
            "Dep. Variable:                   Time   R-squared:                       0.450\n",
            "Model:                            OLS   Adj. R-squared:                  0.433\n",
            "Method:                 Least Squares   F-statistic:                     26.96\n",
            "Date:                Mon, 28 Mar 2022   Prob (F-statistic):           1.05e-05\n",
            "Time:                        16:30:41   Log-Likelihood:                -141.08\n",
            "No. Observations:                  35   AIC:                             286.2\n",
            "Df Residuals:                      33   BIC:                             289.3\n",
            "Df Model:                           1                                         \n",
            "Covariance Type:            nonrobust                                         \n",
            "==============================================================================\n",
            "                 coef    std err          t      P>|t|      [0.025      0.975]\n",
            "------------------------------------------------------------------------------\n",
            "Intercept    316.8053     50.679      6.251      0.000     213.698     419.912\n",
            "Nitro        -69.2427     13.336     -5.192      0.000     -96.375     -42.110\n",
            "==============================================================================\n",
            "Omnibus:                        5.682   Durbin-Watson:                   1.325\n",
            "Prob(Omnibus):                  0.058   Jarque-Bera (JB):                2.336\n",
            "Skew:                           0.294   Prob(JB):                        0.311\n",
            "Kurtosis:                       1.880   Cond. No.                         86.8\n",
            "==============================================================================\n",
            "\n",
            "Warnings:\n",
            "[1] Standard Errors assume that the covariance matrix of the errors is correctly specified.\n"
          ]
        }
      ]
    },
    {
      "cell_type": "markdown",
      "metadata": {
        "id": "MRy3EI40tNwl"
      },
      "source": [
        "\n",
        "\n",
        "---\n",
        "\n"
      ]
    },
    {
      "cell_type": "markdown",
      "metadata": {
        "id": "82l60bgp0vR5"
      },
      "source": [
        "Okay... so now what?????\n",
        "\n",
        "Does that mean that the slope of the model for the relationship between nitrogen composition and interment time in the population is exactly equal to -69.24?"
      ]
    },
    {
      "cell_type": "markdown",
      "metadata": {
        "id": "2nEnFXNDtg5D"
      },
      "source": [
        "As we learned when we were creating confidence intervals for a population mean, the answer is \"probably not\".\n",
        "\n",
        "Had the researchers exhumed a different sample of bodies from different cemeteries, the exact slope coefficient calculated would probably be slightly different.\n",
        "\n",
        "Therefore, we want to estimate the population slope coefficient using a confidence interval."
      ]
    },
    {
      "cell_type": "markdown",
      "metadata": {
        "id": "II_IqVUIuO5E"
      },
      "source": [
        "And good news!  That information is given to us in our output, too.  It's the last two entries of of the Nitro line.\n",
        "\n",
        "\n",
        "-96.375  to   -42.110\n",
        "\n",
        "Note that the heading [0.025      0.975] is bookending the middle 0.95 of the data, so the two values below give the lower and upper bounds of a 95% confidence interval."
      ]
    },
    {
      "cell_type": "markdown",
      "metadata": {
        "id": "ZTnN18NN1H-c"
      },
      "source": [
        "We are 95% confident that the true slope of the relationship between long bone nitrogen composition and interment time is between -96.37 to -42.11 years per 100g of bone."
      ]
    },
    {
      "cell_type": "markdown",
      "metadata": {
        "id": "12WjHAT91iBl"
      },
      "source": [
        "We can plot the confidence limits on our slope and intercept terms with a shaded area around our regression line."
      ]
    },
    {
      "cell_type": "code",
      "execution_count": null,
      "metadata": {
        "id": "yPsXBJsAv-Rq",
        "colab": {
          "base_uri": "https://localhost:8080/",
          "height": 387
        },
        "outputId": "bafa77a4-bc8c-4e98-bde8-52d12c92288c"
      },
      "outputs": [
        {
          "output_type": "execute_result",
          "data": {
            "text/plain": [
              "<seaborn.axisgrid.FacetGrid at 0x7f5ff34d0250>"
            ]
          },
          "metadata": {},
          "execution_count": 21
        },
        {
          "output_type": "display_data",
          "data": {
            "text/plain": [
              "<Figure size 360x360 with 1 Axes>"
            ],
            "image/png": "[encoded data removed]"
          },
          "metadata": {
            "needs_background": "light"
          }
        }
      ],
      "source": [
        "sns.lmplot(x= \"Nitro\", y= \"Time\", data=longbones)"
      ]
    },
    {
      "cell_type": "markdown",
      "metadata": {
        "id": "G4oNjo6t2BAs"
      },
      "source": [
        "We believe that the true regression line for the model could show up anywhere in that shaded blue area."
      ]
    },
    {
      "cell_type": "markdown",
      "metadata": {
        "id": "_VQUFlFWE7YP"
      },
      "source": [
        "#Objective - Identify violations of the assumptions for linear regression"
      ]
    },
    {
      "cell_type": "markdown",
      "metadata": {
        "id": "ALHIkP4PwVWt"
      },
      "source": [
        "Linear regression is great!  What could possibly go wrong?!?\n",
        "\n"
      ]
    },
    {
      "cell_type": "markdown",
      "metadata": {
        "id": "m331yLSp4cgn"
      },
      "source": [
        "A few things to watch out for:"
      ]
    },
    {
      "cell_type": "markdown",
      "metadata": {
        "id": "SSHWw7Rw35Lr"
      },
      "source": [
        "1) Linear regression can only model the relationship between two quantitative variables.  Often we will want to model the relationship between a predictor variable and a categorical (usually yes or no) outcome.\n",
        "\n",
        "For this, we'll need *logistic* regression.  This is convered in Unit 2."
      ]
    },
    {
      "cell_type": "markdown",
      "metadata": {
        "id": "wYBevsdf4R2H"
      },
      "source": [
        "2) Linear regression models the *linear* relationship between two variables. If the relationship between your variables is not linear, you won't get a very good answer using linear regression.\n",
        "\n",
        "Let's look at an example."
      ]
    },
    {
      "cell_type": "markdown",
      "metadata": {
        "id": "ML2uKT1D7Qxe"
      },
      "source": [
        "How do environmental factors contribute to the diversity of plant life on an island? The Plants.csv dataset provides information on a number of characteristics of the British Isles (not including Ireland or Britain itself) including latitude, area, and distance from Britain. We wish to use linear regression to determine if islands with a larger area are home to a greater number of species of plant life.\n",
        "\n",
        "Sources:\n",
        "\n",
        "M.P. Johnson and D.S. Simberloff (1974). \"Environmental Determinants\n",
        "of Island Species Numbers in the British Isles,\" Journal of Biogeography, Vol. 1, pp. 149-154\n",
        "\n",
        "E.D. McCoy and E.F. Connor (1976). \"Environmental Determinants of Island Species Number in the British Isles: A Reconsideration,\" Journal of Biogeography, Vol. 3, pp. 381-382."
      ]
    },
    {
      "cell_type": "code",
      "execution_count": null,
      "metadata": {
        "id": "Az7aXj-N6sW6",
        "colab": {
          "base_uri": "https://localhost:8080/",
          "height": 206
        },
        "outputId": "fddc21b6-cb52-4bb0-f31e-74d240319f28"
      },
      "outputs": [
        {
          "output_type": "execute_result",
          "data": {
            "text/plain": [
              "     Island   Area  Elevation  Soil  Latitude  Distance  Species\n",
              "0     Ailsa    0.8        340     1      55.3      14.0       75\n",
              "1  Anglesey  712.5        127     3      53.3       0.2      855\n",
              "2     Arran  429.4        874     4      55.6       5.2      577\n",
              "3     Barra   18.4        384     2      57.0      77.4      409\n",
              "4   Bressay   31.1        226     1      60.1     201.6      177"
            ],
            "text/html": [
              "\n",
              "  <div id=\"df-9208855d-b114-4ece-8b8d-53f58dac3243\">\n",
              "    <div class=\"colab-df-container\">\n",
              "      <div>\n",
              "<style scoped>\n",
              "    .dataframe tbody tr th:only-of-type {\n",
              "        vertical-align: middle;\n",
              "    }\n",
              "\n",
              "    .dataframe tbody tr th {\n",
              "        vertical-align: top;\n",
              "    }\n",
              "\n",
              "    .dataframe thead th {\n",
              "        text-align: right;\n",
              "    }\n",
              "</style>\n",
              "<table border=\"1\" class=\"dataframe\">\n",
              "  <thead>\n",
              "    <tr style=\"text-align: right;\">\n",
              "      <th></th>\n",
              "      <th>Island</th>\n",
              "      <th>Area</th>\n",
              "      <th>Elevation</th>\n",
              "      <th>Soil</th>\n",
              "      <th>Latitude</th>\n",
              "      <th>Distance</th>\n",
              "      <th>Species</th>\n",
              "    </tr>\n",
              "  </thead>\n",
              "  <tbody>\n",
              "    <tr>\n",
              "      <th>0</th>\n",
              "      <td>Ailsa</td>\n",
              "      <td>0.8</td>\n",
              "      <td>340</td>\n",
              "      <td>1</td>\n",
              "      <td>55.3</td>\n",
              "      <td>14.0</td>\n",
              "      <td>75</td>\n",
              "    </tr>\n",
              "    <tr>\n",
              "      <th>1</th>\n",
              "      <td>Anglesey</td>\n",
              "      <td>712.5</td>\n",
              "      <td>127</td>\n",
              "      <td>3</td>\n",
              "      <td>53.3</td>\n",
              "      <td>0.2</td>\n",
              "      <td>855</td>\n",
              "    </tr>\n",
              "    <tr>\n",
              "      <th>2</th>\n",
              "      <td>Arran</td>\n",
              "      <td>429.4</td>\n",
              "      <td>874</td>\n",
              "      <td>4</td>\n",
              "      <td>55.6</td>\n",
              "      <td>5.2</td>\n",
              "      <td>577</td>\n",
              "    </tr>\n",
              "    <tr>\n",
              "      <th>3</th>\n",
              "      <td>Barra</td>\n",
              "      <td>18.4</td>\n",
              "      <td>384</td>\n",
              "      <td>2</td>\n",
              "      <td>57.0</td>\n",
              "      <td>77.4</td>\n",
              "      <td>409</td>\n",
              "    </tr>\n",
              "    <tr>\n",
              "      <th>4</th>\n",
              "      <td>Bressay</td>\n",
              "      <td>31.1</td>\n",
              "      <td>226</td>\n",
              "      <td>1</td>\n",
              "      <td>60.1</td>\n",
              "      <td>201.6</td>\n",
              "      <td>177</td>\n",
              "    </tr>\n",
              "  </tbody>\n",
              "</table>\n",
              "</div>\n",
              "      <button class=\"colab-df-convert\" onclick=\"convertToInteractive('df-9208855d-b114-4ece-8b8d-53f58dac3243')\"\n",
              "              title=\"Convert this dataframe to an interactive table.\"\n",
              "              style=\"display:none;\">\n",
              "        \n",
              "  <svg xmlns=\"http://www.w3.org/2000/svg\" height=\"24px\"viewBox=\"0 0 24 24\"\n",
              "       width=\"24px\">\n",
              "    <path d=\"M0 0h24v24H0V0z\" fill=\"none\"/>\n",
              "    <path d=\"M18.56 5.44l.94 2.06.94-2.06 2.06-.94-2.06-.94-.94-2.06-.94 2.06-2.06.94zm-11 1L8.5 8.5l.94-2.06 2.06-.94-2.06-.94L8.5 2.5l-.94 2.06-2.06.94zm10 10l.94 2.06.94-2.06 2.06-.94-2.06-.94-.94-2.06-.94 2.06-2.06.94z\"/><path d=\"M17.41 7.96l-1.37-1.37c-.4-.4-.92-.59-1.43-.59-.52 0-1.04.2-1.43.59L10.3 9.45l-7.72 7.72c-.78.78-.78 2.05 0 2.83L4 21.41c.39.39.9.59 1.41.59.51 0 1.02-.2 1.41-.59l7.78-7.78 2.81-2.81c.8-.78.8-2.07 0-2.86zM5.41 20L4 18.59l7.72-7.72 1.47 1.35L5.41 20z\"/>\n",
              "  </svg>\n",
              "      </button>\n",
              "      \n",
              "  <style>\n",
              "    .colab-df-container {\n",
              "      display:flex;\n",
              "      flex-wrap:wrap;\n",
              "      gap: 12px;\n",
              "    }\n",
              "\n",
              "    .colab-df-convert {\n",
              "      background-color: #E8F0FE;\n",
              "      border: none;\n",
              "      border-radius: 50%;\n",
              "      cursor: pointer;\n",
              "      display: none;\n",
              "      fill: #1967D2;\n",
              "      height: 32px;\n",
              "      padding: 0 0 0 0;\n",
              "      width: 32px;\n",
              "    }\n",
              "\n",
              "    .colab-df-convert:hover {\n",
              "      background-color: #E2EBFA;\n",
              "      box-shadow: 0px 1px 2px rgba(60, 64, 67, 0.3), 0px 1px 3px 1px rgba(60, 64, 67, 0.15);\n",
              "      fill: #174EA6;\n",
              "    }\n",
              "\n",
              "    [theme=dark] .colab-df-convert {\n",
              "      background-color: #3B4455;\n",
              "      fill: #D2E3FC;\n",
              "    }\n",
              "\n",
              "    [theme=dark] .colab-df-convert:hover {\n",
              "      background-color: #434B5C;\n",
              "      box-shadow: 0px 1px 3px 1px rgba(0, 0, 0, 0.15);\n",
              "      filter: drop-shadow(0px 1px 2px rgba(0, 0, 0, 0.3));\n",
              "      fill: #FFFFFF;\n",
              "    }\n",
              "  </style>\n",
              "\n",
              "      <script>\n",
              "        const buttonEl =\n",
              "          document.querySelector('#df-9208855d-b114-4ece-8b8d-53f58dac3243 button.colab-df-convert');\n",
              "        buttonEl.style.display =\n",
              "          google.colab.kernel.accessAllowed ? 'block' : 'none';\n",
              "\n",
              "        async function convertToInteractive(key) {\n",
              "          const element = document.querySelector('#df-9208855d-b114-4ece-8b8d-53f58dac3243');\n",
              "          const dataTable =\n",
              "            await google.colab.kernel.invokeFunction('convertToInteractive',\n",
              "                                                     [key], {});\n",
              "          if (!dataTable) return;\n",
              "\n",
              "          const docLinkHtml = 'Like what you see? Visit the ' +\n",
              "            '<a target=\"_blank\" href=https://colab.research.google.com/notebooks/data_table.ipynb>data table notebook</a>'\n",
              "            + ' to learn more about interactive tables.';\n",
              "          element.innerHTML = '';\n",
              "          dataTable['output_type'] = 'display_data';\n",
              "          await google.colab.output.renderOutput(dataTable, element);\n",
              "          const docLink = document.createElement('div');\n",
              "          docLink.innerHTML = docLinkHtml;\n",
              "          element.appendChild(docLink);\n",
              "        }\n",
              "      </script>\n",
              "    </div>\n",
              "  </div>\n",
              "  "
            ]
          },
          "metadata": {},
          "execution_count": 22
        }
      ],
      "source": [
        "data_url = 'https://raw.githubusercontent.com/bloominstituteoftechnology/data-science-practice-datasets/main/unit_1/Plants/Plants.csv'\n",
        "\n",
        "plants = pd.read_csv(data_url, skipinitialspace=True, header=0)\n",
        "\n",
        "plants.head()\n",
        "\n"
      ]
    },
    {
      "cell_type": "code",
      "execution_count": null,
      "metadata": {
        "id": "IEzlwaXX4By5",
        "colab": {
          "base_uri": "https://localhost:8080/",
          "height": 387
        },
        "outputId": "0b8880eb-928f-4b7d-ed96-084ab1abdf0d"
      },
      "outputs": [
        {
          "output_type": "execute_result",
          "data": {
            "text/plain": [
              "<seaborn.axisgrid.FacetGrid at 0x7f5ff33da950>"
            ]
          },
          "metadata": {},
          "execution_count": 23
        },
        {
          "output_type": "display_data",
          "data": {
            "text/plain": [
              "<Figure size 360x360 with 1 Axes>"
            ],
            "image/png": "[encoded data removed]"
          },
          "metadata": {
            "needs_background": "light"
          }
        }
      ],
      "source": [
        "sns.lmplot(x= \"Area\", y = \"Species\", data= plants)"
      ]
    },
    {
      "cell_type": "markdown",
      "metadata": {
        "id": "B1O2nuW_3ixr"
      },
      "source": [
        "Just by inspection we can see that this model doesn't look like it fits very well!"
      ]
    },
    {
      "cell_type": "markdown",
      "metadata": {
        "id": "-rhf7zmX9g3E"
      },
      "source": [
        "If you run into a situation like this, there are different transformations that can be done to a predictor variable (taking the natural log, for example) that can bring the relationship into a straight line.  \n",
        "\n",
        "We'll talk about this notion in a little bit."
      ]
    },
    {
      "cell_type": "markdown",
      "metadata": {
        "id": "iRVl1ZyC92kj"
      },
      "source": [
        "3) What is the population that we can draw conclusions about?"
      ]
    },
    {
      "cell_type": "markdown",
      "metadata": {
        "id": "W144SPd89-4n"
      },
      "source": [
        "In the case of longbones dataset, we can probably draw conclusions about the population of burials in that area of England or in other places with similar climates and soil composition.\n",
        "\n",
        "Would the model give us a good prediction for a body that was buried in Sub-Saharan Africa?\n",
        "\n",
        "Probably not."
      ]
    },
    {
      "cell_type": "markdown",
      "metadata": {
        "id": "Vplb9Bze-hKu"
      },
      "source": [
        "4) Beware of outliers and influential points.\n",
        "\n",
        "A single point can \"pull\" the linear regression relationship way out of whack.  You must use your judgement (and help from subject matter experts) to determine what should be done with an outlier.\n",
        "\n",
        "Often separate models are created with and without the outlier and both sets of results are presented for the reader to evaluate."
      ]
    },
    {
      "cell_type": "markdown",
      "metadata": {
        "id": "MTxQw1AW_1A4"
      },
      "source": [
        "A notorious example: The relationship between votes for George W. Bush and Pat Buchanan in the 2000 presidental election in Florida. ![votes.gif](data:image/gif;base64,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)"
      ]
    },
    {
      "cell_type": "markdown",
      "metadata": {
        "id": "ToPVp-S6X6uD"
      },
      "source": [
        "5) Correlation $\\neq$ causation\n",
        "\n",
        "You've probably heard it before, but it bears repeating.\n",
        "\n",
        "\n",
        "http://www.tylervigen.com/spurious-correlations"
      ]
    },
    {
      "cell_type": "markdown",
      "metadata": {
        "id": "K_nw1ugWY1ae"
      },
      "source": [
        "Sometimes two variables will appear correlated and there will be no obvious reason why.\n",
        "\n",
        "Sometimes two variables will appear correlated because an outside factor called a lurking factor is causing changes in both.\n",
        "\n",
        "As we can see above, ice cream sales don't cause forest fires.  However, both increase in the summer months and decrease in the winter months."
      ]
    },
    {
      "cell_type": "markdown",
      "metadata": {
        "id": "DHNJ5vpJCGSf"
      },
      "source": [
        "#Let's return to the sleep example"
      ]
    },
    {
      "cell_type": "markdown",
      "metadata": {
        "id": "T1TDNIibteov"
      },
      "source": [
        "Import the Sleep.csv dataset from a URL and print the first few rows\n",
        "\n",
        "Researchers recorded data on sleep duration as well as a set of ecological and constitutional variables  for a selection of mammal species. This data appears in the Sleep.csv dataset. \n",
        "\n",
        "\n",
        "Source: Allison, T. and Cicchetti, D. (1976), \"Sleep in Mammals: Ecological and Constitutional Correlates\",  Science, November 12, vol. 194, pp. 732-734.\n",
        "\n",
        "\n",
        "\n",
        "Data Dictionary:\n",
        "\n",
        "| Variable Name |            Description           |                                                                 Details                                                                 |              |   |\n",
        "|:-------------:|:--------------------------------:|:---------------------------------------------------------------------------------------------------------------------------------------:|--------------|---|\n",
        "| Animal        |            Animal name           |                                                            Character [string]                                                           |    |   |\n",
        "| Body          |            Body weight           |                                                               Numeric [kg]                                                              |       |   |\n",
        "| Brain         |           Brain weight           |                                                               Numeric [g]                                                               |  |   |\n",
        "| SWsleep       | Slow wave (“non-dreaming”) sleep | Numeric [hours]                                                                                                                         |              |   |\n",
        "| Parasleep     | Paradoxical (“dreaming”) sleep   | Numeric [hours]                                                                                                                         |              |   |\n",
        "| Totsleep      | Total sleep                      | Numeric [hours]                                                                                                                         |              |   |\n",
        "| Life          | Maximum life expectancy          | Numeric [years]                                                                                                                         |              |   |\n",
        "| Gest          | Gestation time                   | Numeric [days]                                                                                                                          |              |   |\n",
        "| Pred          | Predation index                  | Numeric [1 – 5] 1 = least likely to be preyed upon, 5 = most likely to be preyed upon                                                   |              |   |\n",
        "| Exposure      | Sleep exposure index             | Numeric [1 – 5] 1 = least amount of exposure during sleep (mammal sleeps indoors or in a den), 5 = most amount of exposure during sleep |              |   |\n",
        "| Danger        | Overall danger index             | Numeric [ 1 – 5] 1 = least amount of danger from other animals, 5 = most amount of danger from other animals                            |              |   |\n",
        "\n"
      ]
    },
    {
      "cell_type": "code",
      "execution_count": null,
      "metadata": {
        "id": "lAGRV2LkuKyw",
        "colab": {
          "base_uri": "https://localhost:8080/",
          "height": 206
        },
        "outputId": "a9f2c6cf-2995-4a72-9761-f9cf64e8da25"
      },
      "outputs": [
        {
          "output_type": "execute_result",
          "data": {
            "text/plain": [
              "                      Animal      Body   Brain  SWsleep  Parasleep  Totsleep  \\\n",
              "0  African_giant_pouched_rat     1.000     6.6      6.3        2.0       8.3   \n",
              "1             Asian_elephant  2547.000  4603.0      2.1        1.8       3.9   \n",
              "2                     Baboon    10.550   179.5      9.1        0.7       9.8   \n",
              "3              Big_brown_bat     0.023     0.3     15.8        3.9      19.7   \n",
              "4            Brazilian_tapir   160.000   169.0      5.2        1.0       6.2   \n",
              "\n",
              "   Life   Gest  Pred  Exposure  Danger  \n",
              "0   4.5   42.0     3         1       3  \n",
              "1  69.0  624.0     3         5       4  \n",
              "2  27.0  180.0     4         4       4  \n",
              "3  19.0   35.0     1         1       1  \n",
              "4  30.4  392.0     4         5       4  "
            ],
            "text/html": [
              "\n",
              "  <div id=\"df-78d975b4-2af0-426d-85c4-8a4b8cf4b262\">\n",
              "    <div class=\"colab-df-container\">\n",
              "      <div>\n",
              "<style scoped>\n",
              "    .dataframe tbody tr th:only-of-type {\n",
              "        vertical-align: middle;\n",
              "    }\n",
              "\n",
              "    .dataframe tbody tr th {\n",
              "        vertical-align: top;\n",
              "    }\n",
              "\n",
              "    .dataframe thead th {\n",
              "        text-align: right;\n",
              "    }\n",
              "</style>\n",
              "<table border=\"1\" class=\"dataframe\">\n",
              "  <thead>\n",
              "    <tr style=\"text-align: right;\">\n",
              "      <th></th>\n",
              "      <th>Animal</th>\n",
              "      <th>Body</th>\n",
              "      <th>Brain</th>\n",
              "      <th>SWsleep</th>\n",
              "      <th>Parasleep</th>\n",
              "      <th>Totsleep</th>\n",
              "      <th>Life</th>\n",
              "      <th>Gest</th>\n",
              "      <th>Pred</th>\n",
              "      <th>Exposure</th>\n",
              "      <th>Danger</th>\n",
              "    </tr>\n",
              "  </thead>\n",
              "  <tbody>\n",
              "    <tr>\n",
              "      <th>0</th>\n",
              "      <td>African_giant_pouched_rat</td>\n",
              "      <td>1.000</td>\n",
              "      <td>6.6</td>\n",
              "      <td>6.3</td>\n",
              "      <td>2.0</td>\n",
              "      <td>8.3</td>\n",
              "      <td>4.5</td>\n",
              "      <td>42.0</td>\n",
              "      <td>3</td>\n",
              "      <td>1</td>\n",
              "      <td>3</td>\n",
              "    </tr>\n",
              "    <tr>\n",
              "      <th>1</th>\n",
              "      <td>Asian_elephant</td>\n",
              "      <td>2547.000</td>\n",
              "      <td>4603.0</td>\n",
              "      <td>2.1</td>\n",
              "      <td>1.8</td>\n",
              "      <td>3.9</td>\n",
              "      <td>69.0</td>\n",
              "      <td>624.0</td>\n",
              "      <td>3</td>\n",
              "      <td>5</td>\n",
              "      <td>4</td>\n",
              "    </tr>\n",
              "    <tr>\n",
              "      <th>2</th>\n",
              "      <td>Baboon</td>\n",
              "      <td>10.550</td>\n",
              "      <td>179.5</td>\n",
              "      <td>9.1</td>\n",
              "      <td>0.7</td>\n",
              "      <td>9.8</td>\n",
              "      <td>27.0</td>\n",
              "      <td>180.0</td>\n",
              "      <td>4</td>\n",
              "      <td>4</td>\n",
              "      <td>4</td>\n",
              "    </tr>\n",
              "    <tr>\n",
              "      <th>3</th>\n",
              "      <td>Big_brown_bat</td>\n",
              "      <td>0.023</td>\n",
              "      <td>0.3</td>\n",
              "      <td>15.8</td>\n",
              "      <td>3.9</td>\n",
              "      <td>19.7</td>\n",
              "      <td>19.0</td>\n",
              "      <td>35.0</td>\n",
              "      <td>1</td>\n",
              "      <td>1</td>\n",
              "      <td>1</td>\n",
              "    </tr>\n",
              "    <tr>\n",
              "      <th>4</th>\n",
              "      <td>Brazilian_tapir</td>\n",
              "      <td>160.000</td>\n",
              "      <td>169.0</td>\n",
              "      <td>5.2</td>\n",
              "      <td>1.0</td>\n",
              "      <td>6.2</td>\n",
              "      <td>30.4</td>\n",
              "      <td>392.0</td>\n",
              "      <td>4</td>\n",
              "      <td>5</td>\n",
              "      <td>4</td>\n",
              "    </tr>\n",
              "  </tbody>\n",
              "</table>\n",
              "</div>\n",
              "      <button class=\"colab-df-convert\" onclick=\"convertToInteractive('df-78d975b4-2af0-426d-85c4-8a4b8cf4b262')\"\n",
              "              title=\"Convert this dataframe to an interactive table.\"\n",
              "              style=\"display:none;\">\n",
              "        \n",
              "  <svg xmlns=\"http://www.w3.org/2000/svg\" height=\"24px\"viewBox=\"0 0 24 24\"\n",
              "       width=\"24px\">\n",
              "    <path d=\"M0 0h24v24H0V0z\" fill=\"none\"/>\n",
              "    <path d=\"M18.56 5.44l.94 2.06.94-2.06 2.06-.94-2.06-.94-.94-2.06-.94 2.06-2.06.94zm-11 1L8.5 8.5l.94-2.06 2.06-.94-2.06-.94L8.5 2.5l-.94 2.06-2.06.94zm10 10l.94 2.06.94-2.06 2.06-.94-2.06-.94-.94-2.06-.94 2.06-2.06.94z\"/><path d=\"M17.41 7.96l-1.37-1.37c-.4-.4-.92-.59-1.43-.59-.52 0-1.04.2-1.43.59L10.3 9.45l-7.72 7.72c-.78.78-.78 2.05 0 2.83L4 21.41c.39.39.9.59 1.41.59.51 0 1.02-.2 1.41-.59l7.78-7.78 2.81-2.81c.8-.78.8-2.07 0-2.86zM5.41 20L4 18.59l7.72-7.72 1.47 1.35L5.41 20z\"/>\n",
              "  </svg>\n",
              "      </button>\n",
              "      \n",
              "  <style>\n",
              "    .colab-df-container {\n",
              "      display:flex;\n",
              "      flex-wrap:wrap;\n",
              "      gap: 12px;\n",
              "    }\n",
              "\n",
              "    .colab-df-convert {\n",
              "      background-color: #E8F0FE;\n",
              "      border: none;\n",
              "      border-radius: 50%;\n",
              "      cursor: pointer;\n",
              "      display: none;\n",
              "      fill: #1967D2;\n",
              "      height: 32px;\n",
              "      padding: 0 0 0 0;\n",
              "      width: 32px;\n",
              "    }\n",
              "\n",
              "    .colab-df-convert:hover {\n",
              "      background-color: #E2EBFA;\n",
              "      box-shadow: 0px 1px 2px rgba(60, 64, 67, 0.3), 0px 1px 3px 1px rgba(60, 64, 67, 0.15);\n",
              "      fill: #174EA6;\n",
              "    }\n",
              "\n",
              "    [theme=dark] .colab-df-convert {\n",
              "      background-color: #3B4455;\n",
              "      fill: #D2E3FC;\n",
              "    }\n",
              "\n",
              "    [theme=dark] .colab-df-convert:hover {\n",
              "      background-color: #434B5C;\n",
              "      box-shadow: 0px 1px 3px 1px rgba(0, 0, 0, 0.15);\n",
              "      filter: drop-shadow(0px 1px 2px rgba(0, 0, 0, 0.3));\n",
              "      fill: #FFFFFF;\n",
              "    }\n",
              "  </style>\n",
              "\n",
              "      <script>\n",
              "        const buttonEl =\n",
              "          document.querySelector('#df-78d975b4-2af0-426d-85c4-8a4b8cf4b262 button.colab-df-convert');\n",
              "        buttonEl.style.display =\n",
              "          google.colab.kernel.accessAllowed ? 'block' : 'none';\n",
              "\n",
              "        async function convertToInteractive(key) {\n",
              "          const element = document.querySelector('#df-78d975b4-2af0-426d-85c4-8a4b8cf4b262');\n",
              "          const dataTable =\n",
              "            await google.colab.kernel.invokeFunction('convertToInteractive',\n",
              "                                                     [key], {});\n",
              "          if (!dataTable) return;\n",
              "\n",
              "          const docLinkHtml = 'Like what you see? Visit the ' +\n",
              "            '<a target=\"_blank\" href=https://colab.research.google.com/notebooks/data_table.ipynb>data table notebook</a>'\n",
              "            + ' to learn more about interactive tables.';\n",
              "          element.innerHTML = '';\n",
              "          dataTable['output_type'] = 'display_data';\n",
              "          await google.colab.output.renderOutput(dataTable, element);\n",
              "          const docLink = document.createElement('div');\n",
              "          docLink.innerHTML = docLinkHtml;\n",
              "          element.appendChild(docLink);\n",
              "        }\n",
              "      </script>\n",
              "    </div>\n",
              "  </div>\n",
              "  "
            ]
          },
          "metadata": {},
          "execution_count": 24
        }
      ],
      "source": [
        "data_url = 'https://raw.githubusercontent.com/LambdaSchool/data-science-practice-datasets/main/unit_1/Sleep/Sleep.csv'\n",
        "\n",
        "sleep = pd.read_csv(data_url, skipinitialspace=True, header=0)\n",
        "\n",
        "sleep.head()"
      ]
    },
    {
      "cell_type": "markdown",
      "metadata": {
        "id": "ADEgHGq2Gc-y"
      },
      "source": [
        "In yesterday's assignment, we saw that non-dreaming sleep and total sleep were highly correlated.  However, dreaming sleep is more variable among mammals.  Let's continue to explore the relationship of other variables to the amount of time spent in dreaming sleep."
      ]
    },
    {
      "cell_type": "markdown",
      "metadata": {
        "id": "blkk8t4mHDoe"
      },
      "source": [
        "First, lets see if time spent in non-dreaming and dreaming sleep is statistically significantly related in mammals.\n"
      ]
    },
    {
      "cell_type": "markdown",
      "metadata": {
        "id": "AfKhIa3ODt1k"
      },
      "source": [
        "Plot the relationship between non-dreaming sleep and dreaming sleep."
      ]
    },
    {
      "cell_type": "code",
      "execution_count": null,
      "metadata": {
        "id": "Xfzgz1DiHLvd",
        "colab": {
          "base_uri": "https://localhost:8080/",
          "height": 387
        },
        "outputId": "59c6196c-bbf6-45f0-a2ff-7be59e9c1587"
      },
      "outputs": [
        {
          "output_type": "execute_result",
          "data": {
            "text/plain": [
              "<seaborn.axisgrid.FacetGrid at 0x7f5ff3388850>"
            ]
          },
          "metadata": {},
          "execution_count": 25
        },
        {
          "output_type": "display_data",
          "data": {
            "text/plain": [
              "<Figure size 360x360 with 1 Axes>"
            ],
            "image/png": "[encoded data removed]"
          },
          "metadata": {
            "needs_background": "light"
          }
        }
      ],
      "source": [
        "\n",
        "\n",
        "#Turn off CI plotting for today\n",
        "sns.lmplot(x= 'SWsleep', y = 'Parasleep', data= sleep)"
      ]
    },
    {
      "cell_type": "markdown",
      "metadata": {
        "id": "kt80mNAiEe7x"
      },
      "source": [
        "How would we test the hypothesis that the amount of time spent in non-dreaming and dreaming sleep are unrelated vs the hypothesis that they are related?"
      ]
    },
    {
      "cell_type": "markdown",
      "metadata": {
        "id": "xjahq_t2CyMP"
      },
      "source": [
        "The null hypothesis is that they are unrelated and the slope is 0.  The alternative hypothesis is that they are related and the slope is not 0.  In symbolic notation:\n",
        "\n",
        "Ho: $\\beta_1$ = 0\n",
        "\n",
        "Ha: $\\beta_1 \\neq$ 0"
      ]
    },
    {
      "cell_type": "markdown",
      "metadata": {
        "id": "hLnEk3HeFKEu"
      },
      "source": [
        "Test these hypotheses using statsmodels.api"
      ]
    },
    {
      "cell_type": "code",
      "execution_count": null,
      "metadata": {
        "id": "URz-tbhmFHrc",
        "colab": {
          "base_uri": "https://localhost:8080/"
        },
        "outputId": "1a6cde7c-efa2-4673-ccac-edd02b4b3459"
      },
      "outputs": [
        {
          "output_type": "stream",
          "name": "stdout",
          "text": [
            "                            OLS Regression Results                            \n",
            "==============================================================================\n",
            "Dep. Variable:              Parasleep   R-squared:                       0.269\n",
            "Model:                            OLS   Adj. R-squared:                  0.250\n",
            "Method:                 Least Squares   F-statistic:                     14.69\n",
            "Date:                Mon, 28 Mar 2022   Prob (F-statistic):           0.000439\n",
            "Time:                        16:44:34   Log-Likelihood:                -66.316\n",
            "No. Observations:                  42   AIC:                             136.6\n",
            "Df Residuals:                      40   BIC:                             140.1\n",
            "Df Model:                           1                                         \n",
            "Covariance Type:            nonrobust                                         \n",
            "==============================================================================\n",
            "                 coef    std err          t      P>|t|      [0.025      0.975]\n",
            "------------------------------------------------------------------------------\n",
            "Intercept      0.2602      0.466      0.558      0.580      -0.682       1.203\n",
            "SWsleep        0.1876      0.049      3.832      0.000       0.089       0.286\n",
            "==============================================================================\n",
            "Omnibus:                       14.597   Durbin-Watson:                   2.265\n",
            "Prob(Omnibus):                  0.001   Jarque-Bera (JB):               16.454\n",
            "Skew:                           1.208   Prob(JB):                     0.000267\n",
            "Kurtosis:                       4.887   Cond. No.                         24.2\n",
            "==============================================================================\n",
            "\n",
            "Warnings:\n",
            "[1] Standard Errors assume that the covariance matrix of the errors is correctly specified.\n"
          ]
        }
      ],
      "source": [
        "\n",
        "#Enter the model in the format Y ~ X\n",
        "model = ols(\"Parasleep ~ SWsleep\", data= sleep).fit()\n",
        "print(model.summary())"
      ]
    },
    {
      "cell_type": "markdown",
      "metadata": {
        "id": "ts0bWdepFZiB"
      },
      "source": [
        "We reject the null hypothesis and conclude there might be a statistically significant relationship between the amount of non-dreaming and dreaming sleep a mammal gets daily."
      ]
    },
    {
      "cell_type": "markdown",
      "metadata": {
        "id": "XXgWAA5HJQiL"
      },
      "source": [
        "What other factors might be related to how much dreaming sleep a mammal gets?  Let's look at life expectancy."
      ]
    },
    {
      "cell_type": "markdown",
      "metadata": {
        "id": "TI17SCpeJEOq"
      },
      "source": [
        "Let's see if life expectancy is linearly related to the amount of dreaming sleep a mammal gets each day."
      ]
    },
    {
      "cell_type": "code",
      "execution_count": null,
      "metadata": {
        "id": "dsp2qC_JJEOt",
        "colab": {
          "base_uri": "https://localhost:8080/",
          "height": 387
        },
        "outputId": "b4fff752-c839-4662-ea61-7a8aa3ce83b8"
      },
      "outputs": [
        {
          "output_type": "execute_result",
          "data": {
            "text/plain": [
              "<seaborn.axisgrid.FacetGrid at 0x7f5ff3304850>"
            ]
          },
          "metadata": {},
          "execution_count": 27
        },
        {
          "output_type": "display_data",
          "data": {
            "text/plain": [
              "<Figure size 360x360 with 1 Axes>"
            ],
            "image/png": "[encoded data removed]"
          },
          "metadata": {
            "needs_background": "light"
          }
        }
      ],
      "source": [
        "#Use Seaborn to create the scatterplot and overlay the regression line\n",
        "\n",
        "\n",
        "#Turn off CI plotting for today\n",
        "sns.lmplot(x= 'Life', y = 'Parasleep', data=sleep)"
      ]
    },
    {
      "cell_type": "markdown",
      "metadata": {
        "id": "ReU6jsRoJNWI"
      },
      "source": [
        "How does the model fit the data??????"
      ]
    },
    {
      "cell_type": "code",
      "execution_count": null,
      "metadata": {
        "id": "yn2P6FkEJEOt",
        "colab": {
          "base_uri": "https://localhost:8080/"
        },
        "outputId": "c0c40e1e-68b7-4d87-e821-fc304613a95c"
      },
      "outputs": [
        {
          "output_type": "stream",
          "name": "stdout",
          "text": [
            "                            OLS Regression Results                            \n",
            "==============================================================================\n",
            "Dep. Variable:              Parasleep   R-squared:                       0.072\n",
            "Model:                            OLS   Adj. R-squared:                  0.049\n",
            "Method:                 Least Squares   F-statistic:                     3.104\n",
            "Date:                Mon, 28 Mar 2022   Prob (F-statistic):             0.0858\n",
            "Time:                        16:48:22   Log-Likelihood:                -71.315\n",
            "No. Observations:                  42   AIC:                             146.6\n",
            "Df Residuals:                      40   BIC:                             150.1\n",
            "Df Model:                           1                                         \n",
            "Covariance Type:            nonrobust                                         \n",
            "==============================================================================\n",
            "                 coef    std err          t      P>|t|      [0.025      0.975]\n",
            "------------------------------------------------------------------------------\n",
            "Intercept      2.2564      0.291      7.757      0.000       1.669       2.844\n",
            "Life          -0.0184      0.010     -1.762      0.086      -0.040       0.003\n",
            "==============================================================================\n",
            "Omnibus:                       15.398   Durbin-Watson:                   2.036\n",
            "Prob(Omnibus):                  0.000   Jarque-Bera (JB):               17.257\n",
            "Skew:                           1.314   Prob(JB):                     0.000179\n",
            "Kurtosis:                       4.720   Cond. No.                         38.8\n",
            "==============================================================================\n",
            "\n",
            "Warnings:\n",
            "[1] Standard Errors assume that the covariance matrix of the errors is correctly specified.\n"
          ]
        }
      ],
      "source": [
        "import statsmodels.api as sm\n",
        "\n",
        "#Enter the model in the format Y ~ X\n",
        "model = ols(\"Parasleep ~ Life\", data=sleep).fit()\n",
        "\n",
        "#Print the model summary\n",
        "print(model.summary())"
      ]
    },
    {
      "cell_type": "markdown",
      "metadata": {
        "id": "rxRReWnxJEOu"
      },
      "source": [
        "What are our conclusions here?????"
      ]
    },
    {
      "cell_type": "markdown",
      "metadata": {
        "id": "aTEO8kFpVEAx"
      },
      "source": [
        "###Logarithms\n",
        "\n",
        "Any time you see a relationship that looks like a flattening curve, the relationship may be logarithmic."
      ]
    },
    {
      "cell_type": "markdown",
      "metadata": {
        "id": "AUh65iCVVoiT"
      },
      "source": [
        "![download.png](data:image/png;base64,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)"
      ]
    },
    {
      "cell_type": "markdown",
      "metadata": {
        "id": "zI5PpFnZV1OC"
      },
      "source": [
        "![unnamed.gif](data:image/gif;base64,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)"
      ]
    },
    {
      "cell_type": "markdown",
      "metadata": {
        "id": "1Fo4akY5Qs1m"
      },
      "source": [
        "One thing we can do when we have a potential non-linear relationship between two variables is take the natural logarithm of the x-variable.  This will sometimes bring the relationship between the two variables into line.\n",
        "\n",
        "In other words, a graph of y = ln(x) will be linear."
      ]
    },
    {
      "cell_type": "code",
      "source": [
        "#euler 2.718481848\n",
        "\n",
        "import numpy as np"
      ],
      "metadata": {
        "id": "8S0yoD-XgORA"
      },
      "execution_count": null,
      "outputs": []
    },
    {
      "cell_type": "code",
      "source": [
        "np.log10(100)"
      ],
      "metadata": {
        "colab": {
          "base_uri": "https://localhost:8080/"
        },
        "id": "7Xcu_QglgW9r",
        "outputId": "d30bed45-7871-4e88-9ad1-4efa08e071a9"
      },
      "execution_count": null,
      "outputs": [
        {
          "output_type": "execute_result",
          "data": {
            "text/plain": [
              "2.0"
            ]
          },
          "metadata": {},
          "execution_count": 31
        }
      ]
    },
    {
      "cell_type": "code",
      "source": [
        "10**2"
      ],
      "metadata": {
        "colab": {
          "base_uri": "https://localhost:8080/"
        },
        "id": "DS1E_sMdggba",
        "outputId": "0d59eba1-689a-4a27-da90-1824756a3cbe"
      },
      "execution_count": null,
      "outputs": [
        {
          "output_type": "execute_result",
          "data": {
            "text/plain": [
              "100"
            ]
          },
          "metadata": {},
          "execution_count": 32
        }
      ]
    },
    {
      "cell_type": "code",
      "source": [
        "np.log(100)"
      ],
      "metadata": {
        "colab": {
          "base_uri": "https://localhost:8080/"
        },
        "id": "pZTEm5cLgiqJ",
        "outputId": "31a18247-8935-41a6-8c30-5dbd024b278a"
      },
      "execution_count": null,
      "outputs": [
        {
          "output_type": "execute_result",
          "data": {
            "text/plain": [
              "4.605170185988092"
            ]
          },
          "metadata": {},
          "execution_count": 33
        }
      ]
    },
    {
      "cell_type": "code",
      "source": [
        "2.71828**4.605170185988092"
      ],
      "metadata": {
        "colab": {
          "base_uri": "https://localhost:8080/"
        },
        "id": "89RrbYhFgqNk",
        "outputId": "d7b05a0d-01e4-414c-8095-6888d39267af"
      },
      "execution_count": null,
      "outputs": [
        {
          "output_type": "execute_result",
          "data": {
            "text/plain": [
              "99.99969023245559"
            ]
          },
          "metadata": {},
          "execution_count": 36
        }
      ]
    },
    {
      "cell_type": "code",
      "execution_count": null,
      "metadata": {
        "id": "n6meNOBWJEOu"
      },
      "outputs": [],
      "source": [
        "#Calculate log of life expectancy\n",
        "sleep['log_life'] = np.log(sleep['Life'])"
      ]
    },
    {
      "cell_type": "code",
      "execution_count": null,
      "metadata": {
        "id": "0kV5Kl8IJEOu",
        "colab": {
          "base_uri": "https://localhost:8080/",
          "height": 387
        },
        "outputId": "8ba99cb4-b317-49b7-af44-9bdb96fa3cbf"
      },
      "outputs": [
        {
          "output_type": "execute_result",
          "data": {
            "text/plain": [
              "<seaborn.axisgrid.FacetGrid at 0x7f5fee33be90>"
            ]
          },
          "metadata": {},
          "execution_count": 41
        },
        {
          "output_type": "display_data",
          "data": {
            "text/plain": [
              "<Figure size 360x360 with 1 Axes>"
            ],
            "image/png": "[encoded data removed]"
          },
          "metadata": {
            "needs_background": "light"
          }
        }
      ],
      "source": [
        "#Use Seaborn to create the scatterplot and overlay the regression line\n",
        "\n",
        "import seaborn as sns\n",
        "\n",
        "#Turn off CI plotting for today\n",
        "sns.lmplot(x = 'log_life', y ='Parasleep', data=sleep)"
      ]
    },
    {
      "cell_type": "code",
      "source": [
        ""
      ],
      "metadata": {
        "id": "KeGX6RF7hGLm"
      },
      "execution_count": null,
      "outputs": []
    },
    {
      "cell_type": "markdown",
      "metadata": {
        "id": "RlTyrEt8JixK"
      },
      "source": [
        "How is the model fit now?"
      ]
    },
    {
      "cell_type": "code",
      "execution_count": null,
      "metadata": {
        "id": "kEFyDTnIJEOv",
        "colab": {
          "base_uri": "https://localhost:8080/"
        },
        "outputId": "d286c6b8-ef84-4082-9100-38674414ac10"
      },
      "outputs": [
        {
          "output_type": "stream",
          "name": "stdout",
          "text": [
            "                            OLS Regression Results                            \n",
            "==============================================================================\n",
            "Dep. Variable:              Parasleep   R-squared:                       0.148\n",
            "Model:                            OLS   Adj. R-squared:                  0.127\n",
            "Method:                 Least Squares   F-statistic:                     6.970\n",
            "Date:                Mon, 28 Mar 2022   Prob (F-statistic):             0.0118\n",
            "Time:                        17:15:42   Log-Likelihood:                -69.511\n",
            "No. Observations:                  42   AIC:                             143.0\n",
            "Df Residuals:                      40   BIC:                             146.5\n",
            "Df Model:                           1                                         \n",
            "Covariance Type:            nonrobust                                         \n",
            "==============================================================================\n",
            "                 coef    std err          t      P>|t|      [0.025      0.975]\n",
            "------------------------------------------------------------------------------\n",
            "Intercept      3.2065      0.534      6.006      0.000       2.128       4.285\n",
            "log_life      -0.5262      0.199     -2.640      0.012      -0.929      -0.123\n",
            "==============================================================================\n",
            "Omnibus:                       12.822   Durbin-Watson:                   1.945\n",
            "Prob(Omnibus):                  0.002   Jarque-Bera (JB):               13.004\n",
            "Skew:                           1.209   Prob(JB):                      0.00150\n",
            "Kurtosis:                       4.261   Cond. No.                         8.01\n",
            "==============================================================================\n",
            "\n",
            "Warnings:\n",
            "[1] Standard Errors assume that the covariance matrix of the errors is correctly specified.\n"
          ]
        }
      ],
      "source": [
        "import statsmodels.api as sm\n",
        "\n",
        "#Enter the model in the format Y ~ X\n",
        "model = ols(\"Parasleep ~ log_life\", data=sleep).fit()\n",
        "#Print the model summary\n",
        "print(model.summary())"
      ]
    },
    {
      "cell_type": "markdown",
      "metadata": {
        "id": "XhMUf_mYJEOv"
      },
      "source": [
        "Conclusions???"
      ]
    },
    {
      "cell_type": "markdown",
      "metadata": {
        "id": "tqTR_WzHJ14f"
      },
      "source": [
        "Let's predict dreaming sleep for a mammal with a 20-year life expectancy"
      ]
    },
    {
      "cell_type": "code",
      "execution_count": null,
      "metadata": {
        "id": "Y7cwkjSEJ0B5",
        "colab": {
          "base_uri": "https://localhost:8080/"
        },
        "outputId": "d451a58c-7b29-479d-969b-476a4411ab97"
      },
      "outputs": [
        {
          "output_type": "stream",
          "name": "stdout",
          "text": [
            "ln 20 =  2.995732273553991\n",
            "Predicted dreaming sleep =  1.6301898708134377\n"
          ]
        }
      ],
      "source": [
        "#Specify the value of x we'd like to predict\n",
        "x = 20\n",
        "\n",
        "#Take the natural log of x\n",
        "ln_x = np.log(20)\n",
        "\n",
        "#Extract the slope and intercept values from the model paramters\n",
        "intercept, slope = model.params \n",
        "\n",
        "#Use the model coefficients and plug the new value of x into the regression equation\n",
        "predict = intercept + slope * ln_x\n",
        "print('ln 20 = ', ln_x)\n",
        "print('Predicted dreaming sleep = ', predict)"
      ]
    },
    {
      "cell_type": "markdown",
      "metadata": {
        "id": "YGeKKtt-KIhB"
      },
      "source": [
        "Now lets think about brain size...  Do animals with larger brains sleep more?\n",
        "\n",
        "But what is the problem with this?  \n",
        "\n"
      ]
    },
    {
      "cell_type": "code",
      "execution_count": null,
      "metadata": {
        "id": "wJzQvGZSC7Qd",
        "colab": {
          "base_uri": "https://localhost:8080/",
          "height": 387
        },
        "outputId": "136e38c4-af1c-455c-c5a6-74637f151ad3"
      },
      "outputs": [
        {
          "output_type": "execute_result",
          "data": {
            "text/plain": [
              "<seaborn.axisgrid.FacetGrid at 0x7f5fee2e2cd0>"
            ]
          },
          "metadata": {},
          "execution_count": 45
        },
        {
          "output_type": "display_data",
          "data": {
            "text/plain": [
              "<Figure size 360x360 with 1 Axes>"
            ],
            "image/png": "[encoded data removed]"
          },
          "metadata": {
            "needs_background": "light"
          }
        }
      ],
      "source": [
        "#Use Seaborn to create the scatterplot and overlay the regression line\n",
        "\n",
        "import seaborn as sns\n",
        "\n",
        "#Turn off CI plotting for today\n",
        "sns.lmplot(x = 'Brain', y = 'Parasleep', data=sleep)"
      ]
    },
    {
      "cell_type": "code",
      "execution_count": null,
      "metadata": {
        "id": "Tex-78FVKUgl",
        "colab": {
          "base_uri": "https://localhost:8080/"
        },
        "outputId": "f384fb7c-1c3a-400e-c49c-1afa1d45d71f"
      },
      "outputs": [
        {
          "output_type": "execute_result",
          "data": {
            "text/plain": [
              "(0.9558487458480076, 6.956661529041902e-23)"
            ]
          },
          "metadata": {},
          "execution_count": 46
        }
      ],
      "source": [
        "#Are brain and body size correlated?\n",
        "import scipy.stats as st\n",
        "\n",
        "st.pearsonr(sleep['Brain'], sleep['Body'])"
      ]
    },
    {
      "cell_type": "code",
      "execution_count": null,
      "metadata": {
        "id": "CSBXermMKhob",
        "colab": {
          "base_uri": "https://localhost:8080/",
          "height": 206
        },
        "outputId": "5d7401fd-c87b-4bd8-9b80-c1dabe240088"
      },
      "outputs": [
        {
          "output_type": "execute_result",
          "data": {
            "text/plain": [
              "                      Animal      Body   Brain  SWsleep  Parasleep  Totsleep  \\\n",
              "0  African_giant_pouched_rat     1.000     6.6      6.3        2.0       8.3   \n",
              "1             Asian_elephant  2547.000  4603.0      2.1        1.8       3.9   \n",
              "2                     Baboon    10.550   179.5      9.1        0.7       9.8   \n",
              "3              Big_brown_bat     0.023     0.3     15.8        3.9      19.7   \n",
              "4            Brazilian_tapir   160.000   169.0      5.2        1.0       6.2   \n",
              "\n",
              "   Life   Gest  Pred  Exposure  Danger  log_life      ratio  \n",
              "0   4.5   42.0     3         1       3  1.504077   6.600000  \n",
              "1  69.0  624.0     3         5       4  4.234107   1.807224  \n",
              "2  27.0  180.0     4         4       4  3.295837  17.014218  \n",
              "3  19.0   35.0     1         1       1  2.944439  13.043478  \n",
              "4  30.4  392.0     4         5       4  3.414443   1.056250  "
            ],
            "text/html": [
              "\n",
              "  <div id=\"df-c3e830ec-5c2e-46eb-bf85-0f200b72713a\">\n",
              "    <div class=\"colab-df-container\">\n",
              "      <div>\n",
              "<style scoped>\n",
              "    .dataframe tbody tr th:only-of-type {\n",
              "        vertical-align: middle;\n",
              "    }\n",
              "\n",
              "    .dataframe tbody tr th {\n",
              "        vertical-align: top;\n",
              "    }\n",
              "\n",
              "    .dataframe thead th {\n",
              "        text-align: right;\n",
              "    }\n",
              "</style>\n",
              "<table border=\"1\" class=\"dataframe\">\n",
              "  <thead>\n",
              "    <tr style=\"text-align: right;\">\n",
              "      <th></th>\n",
              "      <th>Animal</th>\n",
              "      <th>Body</th>\n",
              "      <th>Brain</th>\n",
              "      <th>SWsleep</th>\n",
              "      <th>Parasleep</th>\n",
              "      <th>Totsleep</th>\n",
              "      <th>Life</th>\n",
              "      <th>Gest</th>\n",
              "      <th>Pred</th>\n",
              "      <th>Exposure</th>\n",
              "      <th>Danger</th>\n",
              "      <th>log_life</th>\n",
              "      <th>ratio</th>\n",
              "    </tr>\n",
              "  </thead>\n",
              "  <tbody>\n",
              "    <tr>\n",
              "      <th>0</th>\n",
              "      <td>African_giant_pouched_rat</td>\n",
              "      <td>1.000</td>\n",
              "      <td>6.6</td>\n",
              "      <td>6.3</td>\n",
              "      <td>2.0</td>\n",
              "      <td>8.3</td>\n",
              "      <td>4.5</td>\n",
              "      <td>42.0</td>\n",
              "      <td>3</td>\n",
              "      <td>1</td>\n",
              "      <td>3</td>\n",
              "      <td>1.504077</td>\n",
              "      <td>6.600000</td>\n",
              "    </tr>\n",
              "    <tr>\n",
              "      <th>1</th>\n",
              "      <td>Asian_elephant</td>\n",
              "      <td>2547.000</td>\n",
              "      <td>4603.0</td>\n",
              "      <td>2.1</td>\n",
              "      <td>1.8</td>\n",
              "      <td>3.9</td>\n",
              "      <td>69.0</td>\n",
              "      <td>624.0</td>\n",
              "      <td>3</td>\n",
              "      <td>5</td>\n",
              "      <td>4</td>\n",
              "      <td>4.234107</td>\n",
              "      <td>1.807224</td>\n",
              "    </tr>\n",
              "    <tr>\n",
              "      <th>2</th>\n",
              "      <td>Baboon</td>\n",
              "      <td>10.550</td>\n",
              "      <td>179.5</td>\n",
              "      <td>9.1</td>\n",
              "      <td>0.7</td>\n",
              "      <td>9.8</td>\n",
              "      <td>27.0</td>\n",
              "      <td>180.0</td>\n",
              "      <td>4</td>\n",
              "      <td>4</td>\n",
              "      <td>4</td>\n",
              "      <td>3.295837</td>\n",
              "      <td>17.014218</td>\n",
              "    </tr>\n",
              "    <tr>\n",
              "      <th>3</th>\n",
              "      <td>Big_brown_bat</td>\n",
              "      <td>0.023</td>\n",
              "      <td>0.3</td>\n",
              "      <td>15.8</td>\n",
              "      <td>3.9</td>\n",
              "      <td>19.7</td>\n",
              "      <td>19.0</td>\n",
              "      <td>35.0</td>\n",
              "      <td>1</td>\n",
              "      <td>1</td>\n",
              "      <td>1</td>\n",
              "      <td>2.944439</td>\n",
              "      <td>13.043478</td>\n",
              "    </tr>\n",
              "    <tr>\n",
              "      <th>4</th>\n",
              "      <td>Brazilian_tapir</td>\n",
              "      <td>160.000</td>\n",
              "      <td>169.0</td>\n",
              "      <td>5.2</td>\n",
              "      <td>1.0</td>\n",
              "      <td>6.2</td>\n",
              "      <td>30.4</td>\n",
              "      <td>392.0</td>\n",
              "      <td>4</td>\n",
              "      <td>5</td>\n",
              "      <td>4</td>\n",
              "      <td>3.414443</td>\n",
              "      <td>1.056250</td>\n",
              "    </tr>\n",
              "  </tbody>\n",
              "</table>\n",
              "</div>\n",
              "      <button class=\"colab-df-convert\" onclick=\"convertToInteractive('df-c3e830ec-5c2e-46eb-bf85-0f200b72713a')\"\n",
              "              title=\"Convert this dataframe to an interactive table.\"\n",
              "              style=\"display:none;\">\n",
              "        \n",
              "  <svg xmlns=\"http://www.w3.org/2000/svg\" height=\"24px\"viewBox=\"0 0 24 24\"\n",
              "       width=\"24px\">\n",
              "    <path d=\"M0 0h24v24H0V0z\" fill=\"none\"/>\n",
              "    <path d=\"M18.56 5.44l.94 2.06.94-2.06 2.06-.94-2.06-.94-.94-2.06-.94 2.06-2.06.94zm-11 1L8.5 8.5l.94-2.06 2.06-.94-2.06-.94L8.5 2.5l-.94 2.06-2.06.94zm10 10l.94 2.06.94-2.06 2.06-.94-2.06-.94-.94-2.06-.94 2.06-2.06.94z\"/><path d=\"M17.41 7.96l-1.37-1.37c-.4-.4-.92-.59-1.43-.59-.52 0-1.04.2-1.43.59L10.3 9.45l-7.72 7.72c-.78.78-.78 2.05 0 2.83L4 21.41c.39.39.9.59 1.41.59.51 0 1.02-.2 1.41-.59l7.78-7.78 2.81-2.81c.8-.78.8-2.07 0-2.86zM5.41 20L4 18.59l7.72-7.72 1.47 1.35L5.41 20z\"/>\n",
              "  </svg>\n",
              "      </button>\n",
              "      \n",
              "  <style>\n",
              "    .colab-df-container {\n",
              "      display:flex;\n",
              "      flex-wrap:wrap;\n",
              "      gap: 12px;\n",
              "    }\n",
              "\n",
              "    .colab-df-convert {\n",
              "      background-color: #E8F0FE;\n",
              "      border: none;\n",
              "      border-radius: 50%;\n",
              "      cursor: pointer;\n",
              "      display: none;\n",
              "      fill: #1967D2;\n",
              "      height: 32px;\n",
              "      padding: 0 0 0 0;\n",
              "      width: 32px;\n",
              "    }\n",
              "\n",
              "    .colab-df-convert:hover {\n",
              "      background-color: #E2EBFA;\n",
              "      box-shadow: 0px 1px 2px rgba(60, 64, 67, 0.3), 0px 1px 3px 1px rgba(60, 64, 67, 0.15);\n",
              "      fill: #174EA6;\n",
              "    }\n",
              "\n",
              "    [theme=dark] .colab-df-convert {\n",
              "      background-color: #3B4455;\n",
              "      fill: #D2E3FC;\n",
              "    }\n",
              "\n",
              "    [theme=dark] .colab-df-convert:hover {\n",
              "      background-color: #434B5C;\n",
              "      box-shadow: 0px 1px 3px 1px rgba(0, 0, 0, 0.15);\n",
              "      filter: drop-shadow(0px 1px 2px rgba(0, 0, 0, 0.3));\n",
              "      fill: #FFFFFF;\n",
              "    }\n",
              "  </style>\n",
              "\n",
              "      <script>\n",
              "        const buttonEl =\n",
              "          document.querySelector('#df-c3e830ec-5c2e-46eb-bf85-0f200b72713a button.colab-df-convert');\n",
              "        buttonEl.style.display =\n",
              "          google.colab.kernel.accessAllowed ? 'block' : 'none';\n",
              "\n",
              "        async function convertToInteractive(key) {\n",
              "          const element = document.querySelector('#df-c3e830ec-5c2e-46eb-bf85-0f200b72713a');\n",
              "          const dataTable =\n",
              "            await google.colab.kernel.invokeFunction('convertToInteractive',\n",
              "                                                     [key], {});\n",
              "          if (!dataTable) return;\n",
              "\n",
              "          const docLinkHtml = 'Like what you see? Visit the ' +\n",
              "            '<a target=\"_blank\" href=https://colab.research.google.com/notebooks/data_table.ipynb>data table notebook</a>'\n",
              "            + ' to learn more about interactive tables.';\n",
              "          element.innerHTML = '';\n",
              "          dataTable['output_type'] = 'display_data';\n",
              "          await google.colab.output.renderOutput(dataTable, element);\n",
              "          const docLink = document.createElement('div');\n",
              "          docLink.innerHTML = docLinkHtml;\n",
              "          element.appendChild(docLink);\n",
              "        }\n",
              "      </script>\n",
              "    </div>\n",
              "  </div>\n",
              "  "
            ]
          },
          "metadata": {},
          "execution_count": 47
        }
      ],
      "source": [
        "#### Calculate the brain to body size ratio\n",
        "sleep['ratio'] = sleep['Brain']/sleep['Body']\n",
        "sleep.head()"
      ]
    },
    {
      "cell_type": "code",
      "execution_count": null,
      "metadata": {
        "id": "w2B7aFqKN2K2",
        "colab": {
          "base_uri": "https://localhost:8080/",
          "height": 387
        },
        "outputId": "f34e8e3e-8a63-4f7e-f60a-c4eab5ff3bb4"
      },
      "outputs": [
        {
          "output_type": "execute_result",
          "data": {
            "text/plain": [
              "<seaborn.axisgrid.FacetGrid at 0x7f5fee001b90>"
            ]
          },
          "metadata": {},
          "execution_count": 48
        },
        {
          "output_type": "display_data",
          "data": {
            "text/plain": [
              "<Figure size 360x360 with 1 Axes>"
            ],
            "image/png": "[encoded data removed]"
          },
          "metadata": {
            "needs_background": "light"
          }
        }
      ],
      "source": [
        "#Plot brain to body size ratio\n",
        "sns.lmplot(x= 'ratio', y = 'Parasleep', data=sleep)"
      ]
    },
    {
      "cell_type": "markdown",
      "metadata": {
        "id": "ar2PUhjONiUc"
      },
      "source": [
        "What do you think about this relationship???"
      ]
    },
    {
      "cell_type": "code",
      "execution_count": null,
      "metadata": {
        "id": "_F3uVDYSRPj3",
        "colab": {
          "base_uri": "https://localhost:8080/"
        },
        "outputId": "295c9958-7640-4609-abf6-02827d48725e"
      },
      "outputs": [
        {
          "output_type": "stream",
          "name": "stdout",
          "text": [
            "                            OLS Regression Results                            \n",
            "==============================================================================\n",
            "Dep. Variable:              Parasleep   R-squared:                       0.001\n",
            "Model:                            OLS   Adj. R-squared:                 -0.024\n",
            "Method:                 Least Squares   F-statistic:                   0.05213\n",
            "Date:                Mon, 28 Mar 2022   Prob (F-statistic):              0.821\n",
            "Time:                        17:22:54   Log-Likelihood:                -72.857\n",
            "No. Observations:                  42   AIC:                             149.7\n",
            "Df Residuals:                      40   BIC:                             153.2\n",
            "Df Model:                           1                                         \n",
            "Covariance Type:            nonrobust                                         \n",
            "==============================================================================\n",
            "                 coef    std err          t      P>|t|      [0.025      0.975]\n",
            "------------------------------------------------------------------------------\n",
            "Intercept      1.9580      0.334      5.865      0.000       1.283       2.633\n",
            "ratio         -0.0052      0.023     -0.228      0.821      -0.051       0.041\n",
            "==============================================================================\n",
            "Omnibus:                       17.326   Durbin-Watson:                   2.133\n",
            "Prob(Omnibus):                  0.000   Jarque-Bera (JB):               21.034\n",
            "Skew:                           1.394   Prob(JB):                     2.71e-05\n",
            "Kurtosis:                       5.060   Cond. No.                         22.6\n",
            "==============================================================================\n",
            "\n",
            "Warnings:\n",
            "[1] Standard Errors assume that the covariance matrix of the errors is correctly specified.\n"
          ]
        }
      ],
      "source": [
        "\n",
        "\n",
        "#Enter the model in the format Y ~ X\n",
        "#Print the model summary\n",
        "model = ols(\"Parasleep ~ ratio\", data = sleep).fit()\n",
        "print(model.summary())"
      ]
    },
    {
      "cell_type": "markdown",
      "metadata": {
        "id": "dqRxNcn7F4J5"
      },
      "source": [
        "Conclusions???\n",
        "\n",
        " "
      ]
    },
    {
      "cell_type": "markdown",
      "metadata": {
        "id": "ZYK0ul6pMgDs"
      },
      "source": [
        "Other transformations???"
      ]
    },
    {
      "cell_type": "markdown",
      "metadata": {
        "id": "rdOpX0zcZd-g"
      },
      "source": [
        "![curve_fitting_2x.png](data:image/png;base64,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)"
      ]
    },
    {
      "cell_type": "code",
      "source": [
        "sns.scatterplot(x= \"Area\", y = \"Species\", data= plants)"
      ],
      "metadata": {
        "colab": {
          "base_uri": "https://localhost:8080/",
          "height": 297
        },
        "id": "gi8Ywokxj0m2",
        "outputId": "98cd0997-303b-4d34-b2ee-fa592d152cd5"
      },
      "execution_count": null,
      "outputs": [
        {
          "output_type": "execute_result",
          "data": {
            "text/plain": [
              "<matplotlib.axes._subplots.AxesSubplot at 0x7f5fedf2ec10>"
            ]
          },
          "metadata": {},
          "execution_count": 51
        },
        {
          "output_type": "display_data",
          "data": {
            "text/plain": [
              "<Figure size 432x288 with 1 Axes>"
            ],
            "image/png": "[encoded data removed]"
          },
          "metadata": {
            "needs_background": "light"
          }
        }
      ]
    },
    {
      "cell_type": "code",
      "source": [
        "model = ols(\"Species ~ Area\", data=plants).fit()\n",
        "print(model.summary())"
      ],
      "metadata": {
        "colab": {
          "base_uri": "https://localhost:8080/"
        },
        "id": "WfpDjG1Lj1kt",
        "outputId": "0f3a59ce-45a2-452b-b692-e564dec55bf8"
      },
      "execution_count": null,
      "outputs": [
        {
          "output_type": "stream",
          "name": "stdout",
          "text": [
            "                            OLS Regression Results                            \n",
            "==============================================================================\n",
            "Dep. Variable:                Species   R-squared:                       0.266\n",
            "Model:                            OLS   Adj. R-squared:                  0.247\n",
            "Method:                 Least Squares   F-statistic:                     14.14\n",
            "Date:                Mon, 28 Mar 2022   Prob (F-statistic):           0.000557\n",
            "Time:                        17:25:59   Log-Likelihood:                -271.23\n",
            "No. Observations:                  41   AIC:                             546.5\n",
            "Df Residuals:                      39   BIC:                             549.9\n",
            "Df Model:                           1                                         \n",
            "Covariance Type:            nonrobust                                         \n",
            "==============================================================================\n",
            "                 coef    std err          t      P>|t|      [0.025      0.975]\n",
            "------------------------------------------------------------------------------\n",
            "Intercept    295.9646     33.721      8.777      0.000     227.758     364.171\n",
            "Area           0.2380      0.063      3.760      0.001       0.110       0.366\n",
            "==============================================================================\n",
            "Omnibus:                       12.733   Durbin-Watson:                   2.243\n",
            "Prob(Omnibus):                  0.002   Jarque-Bera (JB):               13.579\n",
            "Skew:                           1.089   Prob(JB):                      0.00113\n",
            "Kurtosis:                       4.791   Cond. No.                         621.\n",
            "==============================================================================\n",
            "\n",
            "Warnings:\n",
            "[1] Standard Errors assume that the covariance matrix of the errors is correctly specified.\n"
          ]
        }
      ]
    },
    {
      "cell_type": "code",
      "source": [
        "plants['log_area'] = np.log(plants['Area'])"
      ],
      "metadata": {
        "id": "4u9JuKpDkCXT"
      },
      "execution_count": null,
      "outputs": []
    },
    {
      "cell_type": "code",
      "source": [
        "sns.lmplot(x= \"log_area\", y = \"Species\", data= plants)\n",
        "\n",
        "model = ols(\"Species ~ log_area\", data=plants).fit()\n",
        "print(model.summary())"
      ],
      "metadata": {
        "colab": {
          "base_uri": "https://localhost:8080/",
          "height": 815
        },
        "id": "OEA5fSTwkok1",
        "outputId": "4dc6f6b5-ffa0-4077-f464-4f3572cef2c7"
      },
      "execution_count": null,
      "outputs": [
        {
          "output_type": "stream",
          "name": "stdout",
          "text": [
            "                            OLS Regression Results                            \n",
            "==============================================================================\n",
            "Dep. Variable:                Species   R-squared:                       0.428\n",
            "Model:                            OLS   Adj. R-squared:                  0.413\n",
            "Method:                 Least Squares   F-statistic:                     29.16\n",
            "Date:                Mon, 28 Mar 2022   Prob (F-statistic):           3.52e-06\n",
            "Time:                        17:29:16   Log-Likelihood:                -266.12\n",
            "No. Observations:                  41   AIC:                             536.2\n",
            "Df Residuals:                      39   BIC:                             539.7\n",
            "Df Model:                           1                                         \n",
            "Covariance Type:            nonrobust                                         \n",
            "==============================================================================\n",
            "                 coef    std err          t      P>|t|      [0.025      0.975]\n",
            "------------------------------------------------------------------------------\n",
            "Intercept     79.0020     58.160      1.358      0.182     -38.639     196.643\n",
            "log_area      68.5496     12.695      5.400      0.000      42.872      94.227\n",
            "==============================================================================\n",
            "Omnibus:                        7.534   Durbin-Watson:                   1.916\n",
            "Prob(Omnibus):                  0.023   Jarque-Bera (JB):                6.628\n",
            "Skew:                           0.727   Prob(JB):                       0.0364\n",
            "Kurtosis:                       4.329   Cond. No.                         10.8\n",
            "==============================================================================\n",
            "\n",
            "Warnings:\n",
            "[1] Standard Errors assume that the covariance matrix of the errors is correctly specified.\n"
          ]
        },
        {
          "output_type": "display_data",
          "data": {
            "text/plain": [
              "<Figure size 360x360 with 1 Axes>"
            ],
            "image/png": "[encoded data removed]"
          },
          "metadata": {
            "needs_background": "light"
          }
        }
      ]
    },
    {
      "cell_type": "code",
      "source": [
        "sns.lmplot(x= \"log_area\", y = \"Species\", data= plants)"
      ],
      "metadata": {
        "colab": {
          "base_uri": "https://localhost:8080/",
          "height": 387
        },
        "id": "CIg-R5YJkv_Q",
        "outputId": "08d26f98-5827-43ff-fde5-dbbf5c174d1e"
      },
      "execution_count": null,
      "outputs": [
        {
          "output_type": "execute_result",
          "data": {
            "text/plain": [
              "<seaborn.axisgrid.FacetGrid at 0x7f5fedd18590>"
            ]
          },
          "metadata": {},
          "execution_count": 58
        },
        {
          "output_type": "display_data",
          "data": {
            "text/plain": [
              "<Figure size 360x360 with 1 Axes>"
            ],
            "image/png": "[encoded data removed]"
          },
          "metadata": {
            "needs_background": "light"
          }
        }
      ]
    },
    {
      "cell_type": "code",
      "source": [
        "life = pd.read_csv('Life Expectancy Data.csv')\n",
        "life.head()"
      ],
      "metadata": {
        "colab": {
          "base_uri": "https://localhost:8080/",
          "height": 351
        },
        "id": "-WkFs66hk9_c",
        "outputId": "e53169ef-0a08-49ab-954c-177af5e378b3"
      },
      "execution_count": null,
      "outputs": [
        {
          "output_type": "execute_result",
          "data": {
            "text/plain": [
              "       Country  Year      Status  Life expectancy   Adult Mortality  \\\n",
              "0  Afghanistan  2015  Developing              65.0            263.0   \n",
              "1  Afghanistan  2014  Developing              59.9            271.0   \n",
              "2  Afghanistan  2013  Developing              59.9            268.0   \n",
              "3  Afghanistan  2012  Developing              59.5            272.0   \n",
              "4  Afghanistan  2011  Developing              59.2            275.0   \n",
              "\n",
              "   infant deaths  Alcohol  percentage expenditure  Hepatitis B  Measles   ...  \\\n",
              "0             62     0.01               71.279624         65.0      1154  ...   \n",
              "1             64     0.01               73.523582         62.0       492  ...   \n",
              "2             66     0.01               73.219243         64.0       430  ...   \n",
              "3             69     0.01               78.184215         67.0      2787  ...   \n",
              "4             71     0.01                7.097109         68.0      3013  ...   \n",
              "\n",
              "   Polio  Total expenditure  Diphtheria    HIV/AIDS         GDP  Population  \\\n",
              "0    6.0               8.16         65.0        0.1  584.259210  33736494.0   \n",
              "1   58.0               8.18         62.0        0.1  612.696514    327582.0   \n",
              "2   62.0               8.13         64.0        0.1  631.744976  31731688.0   \n",
              "3   67.0               8.52         67.0        0.1  669.959000   3696958.0   \n",
              "4   68.0               7.87         68.0        0.1   63.537231   2978599.0   \n",
              "\n",
              "    thinness  1-19 years   thinness 5-9 years  \\\n",
              "0                   17.2                 17.3   \n",
              "1                   17.5                 17.5   \n",
              "2                   17.7                 17.7   \n",
              "3                   17.9                 18.0   \n",
              "4                   18.2                 18.2   \n",
              "\n",
              "   Income composition of resources  Schooling  \n",
              "0                            0.479       10.1  \n",
              "1                            0.476       10.0  \n",
              "2                            0.470        9.9  \n",
              "3                            0.463        9.8  \n",
              "4                            0.454        9.5  \n",
              "\n",
              "[5 rows x 22 columns]"
            ],
            "text/html": [
              "\n",
              "  <div id=\"df-ae1f0c2f-4649-4e34-a36b-e9911682fcfe\">\n",
              "    <div class=\"colab-df-container\">\n",
              "      <div>\n",
              "<style scoped>\n",
              "    .dataframe tbody tr th:only-of-type {\n",
              "        vertical-align: middle;\n",
              "    }\n",
              "\n",
              "    .dataframe tbody tr th {\n",
              "        vertical-align: top;\n",
              "    }\n",
              "\n",
              "    .dataframe thead th {\n",
              "        text-align: right;\n",
              "    }\n",
              "</style>\n",
              "<table border=\"1\" class=\"dataframe\">\n",
              "  <thead>\n",
              "    <tr style=\"text-align: right;\">\n",
              "      <th></th>\n",
              "      <th>Country</th>\n",
              "      <th>Year</th>\n",
              "      <th>Status</th>\n",
              "      <th>Life expectancy</th>\n",
              "      <th>Adult Mortality</th>\n",
              "      <th>infant deaths</th>\n",
              "      <th>Alcohol</th>\n",
              "      <th>percentage expenditure</th>\n",
              "      <th>Hepatitis B</th>\n",
              "      <th>Measles</th>\n",
              "      <th>...</th>\n",
              "      <th>Polio</th>\n",
              "      <th>Total expenditure</th>\n",
              "      <th>Diphtheria</th>\n",
              "      <th>HIV/AIDS</th>\n",
              "      <th>GDP</th>\n",
              "      <th>Population</th>\n",
              "      <th>thinness  1-19 years</th>\n",
              "      <th>thinness 5-9 years</th>\n",
              "      <th>Income composition of resources</th>\n",
              "      <th>Schooling</th>\n",
              "    </tr>\n",
              "  </thead>\n",
              "  <tbody>\n",
              "    <tr>\n",
              "      <th>0</th>\n",
              "      <td>Afghanistan</td>\n",
              "      <td>2015</td>\n",
              "      <td>Developing</td>\n",
              "      <td>65.0</td>\n",
              "      <td>263.0</td>\n",
              "      <td>62</td>\n",
              "      <td>0.01</td>\n",
              "      <td>71.279624</td>\n",
              "      <td>65.0</td>\n",
              "      <td>1154</td>\n",
              "      <td>...</td>\n",
              "      <td>6.0</td>\n",
              "      <td>8.16</td>\n",
              "      <td>65.0</td>\n",
              "      <td>0.1</td>\n",
              "      <td>584.259210</td>\n",
              "      <td>33736494.0</td>\n",
              "      <td>17.2</td>\n",
              "      <td>17.3</td>\n",
              "      <td>0.479</td>\n",
              "      <td>10.1</td>\n",
              "    </tr>\n",
              "    <tr>\n",
              "      <th>1</th>\n",
              "      <td>Afghanistan</td>\n",
              "      <td>2014</td>\n",
              "      <td>Developing</td>\n",
              "      <td>59.9</td>\n",
              "      <td>271.0</td>\n",
              "      <td>64</td>\n",
              "      <td>0.01</td>\n",
              "      <td>73.523582</td>\n",
              "      <td>62.0</td>\n",
              "      <td>492</td>\n",
              "      <td>...</td>\n",
              "      <td>58.0</td>\n",
              "      <td>8.18</td>\n",
              "      <td>62.0</td>\n",
              "      <td>0.1</td>\n",
              "      <td>612.696514</td>\n",
              "      <td>327582.0</td>\n",
              "      <td>17.5</td>\n",
              "      <td>17.5</td>\n",
              "      <td>0.476</td>\n",
              "      <td>10.0</td>\n",
              "    </tr>\n",
              "    <tr>\n",
              "      <th>2</th>\n",
              "      <td>Afghanistan</td>\n",
              "      <td>2013</td>\n",
              "      <td>Developing</td>\n",
              "      <td>59.9</td>\n",
              "      <td>268.0</td>\n",
              "      <td>66</td>\n",
              "      <td>0.01</td>\n",
              "      <td>73.219243</td>\n",
              "      <td>64.0</td>\n",
              "      <td>430</td>\n",
              "      <td>...</td>\n",
              "      <td>62.0</td>\n",
              "      <td>8.13</td>\n",
              "      <td>64.0</td>\n",
              "      <td>0.1</td>\n",
              "      <td>631.744976</td>\n",
              "      <td>31731688.0</td>\n",
              "      <td>17.7</td>\n",
              "      <td>17.7</td>\n",
              "      <td>0.470</td>\n",
              "      <td>9.9</td>\n",
              "    </tr>\n",
              "    <tr>\n",
              "      <th>3</th>\n",
              "      <td>Afghanistan</td>\n",
              "      <td>2012</td>\n",
              "      <td>Developing</td>\n",
              "      <td>59.5</td>\n",
              "      <td>272.0</td>\n",
              "      <td>69</td>\n",
              "      <td>0.01</td>\n",
              "      <td>78.184215</td>\n",
              "      <td>67.0</td>\n",
              "      <td>2787</td>\n",
              "      <td>...</td>\n",
              "      <td>67.0</td>\n",
              "      <td>8.52</td>\n",
              "      <td>67.0</td>\n",
              "      <td>0.1</td>\n",
              "      <td>669.959000</td>\n",
              "      <td>3696958.0</td>\n",
              "      <td>17.9</td>\n",
              "      <td>18.0</td>\n",
              "      <td>0.463</td>\n",
              "      <td>9.8</td>\n",
              "    </tr>\n",
              "    <tr>\n",
              "      <th>4</th>\n",
              "      <td>Afghanistan</td>\n",
              "      <td>2011</td>\n",
              "      <td>Developing</td>\n",
              "      <td>59.2</td>\n",
              "      <td>275.0</td>\n",
              "      <td>71</td>\n",
              "      <td>0.01</td>\n",
              "      <td>7.097109</td>\n",
              "      <td>68.0</td>\n",
              "      <td>3013</td>\n",
              "      <td>...</td>\n",
              "      <td>68.0</td>\n",
              "      <td>7.87</td>\n",
              "      <td>68.0</td>\n",
              "      <td>0.1</td>\n",
              "      <td>63.537231</td>\n",
              "      <td>2978599.0</td>\n",
              "      <td>18.2</td>\n",
              "      <td>18.2</td>\n",
              "      <td>0.454</td>\n",
              "      <td>9.5</td>\n",
              "    </tr>\n",
              "  </tbody>\n",
              "</table>\n",
              "<p>5 rows × 22 columns</p>\n",
              "</div>\n",
              "      <button class=\"colab-df-convert\" onclick=\"convertToInteractive('df-ae1f0c2f-4649-4e34-a36b-e9911682fcfe')\"\n",
              "              title=\"Convert this dataframe to an interactive table.\"\n",
              "              style=\"display:none;\">\n",
              "        \n",
              "  <svg xmlns=\"http://www.w3.org/2000/svg\" height=\"24px\"viewBox=\"0 0 24 24\"\n",
              "       width=\"24px\">\n",
              "    <path d=\"M0 0h24v24H0V0z\" fill=\"none\"/>\n",
              "    <path d=\"M18.56 5.44l.94 2.06.94-2.06 2.06-.94-2.06-.94-.94-2.06-.94 2.06-2.06.94zm-11 1L8.5 8.5l.94-2.06 2.06-.94-2.06-.94L8.5 2.5l-.94 2.06-2.06.94zm10 10l.94 2.06.94-2.06 2.06-.94-2.06-.94-.94-2.06-.94 2.06-2.06.94z\"/><path d=\"M17.41 7.96l-1.37-1.37c-.4-.4-.92-.59-1.43-.59-.52 0-1.04.2-1.43.59L10.3 9.45l-7.72 7.72c-.78.78-.78 2.05 0 2.83L4 21.41c.39.39.9.59 1.41.59.51 0 1.02-.2 1.41-.59l7.78-7.78 2.81-2.81c.8-.78.8-2.07 0-2.86zM5.41 20L4 18.59l7.72-7.72 1.47 1.35L5.41 20z\"/>\n",
              "  </svg>\n",
              "      </button>\n",
              "      \n",
              "  <style>\n",
              "    .colab-df-container {\n",
              "      display:flex;\n",
              "      flex-wrap:wrap;\n",
              "      gap: 12px;\n",
              "    }\n",
              "\n",
              "    .colab-df-convert {\n",
              "      background-color: #E8F0FE;\n",
              "      border: none;\n",
              "      border-radius: 50%;\n",
              "      cursor: pointer;\n",
              "      display: none;\n",
              "      fill: #1967D2;\n",
              "      height: 32px;\n",
              "      padding: 0 0 0 0;\n",
              "      width: 32px;\n",
              "    }\n",
              "\n",
              "    .colab-df-convert:hover {\n",
              "      background-color: #E2EBFA;\n",
              "      box-shadow: 0px 1px 2px rgba(60, 64, 67, 0.3), 0px 1px 3px 1px rgba(60, 64, 67, 0.15);\n",
              "      fill: #174EA6;\n",
              "    }\n",
              "\n",
              "    [theme=dark] .colab-df-convert {\n",
              "      background-color: #3B4455;\n",
              "      fill: #D2E3FC;\n",
              "    }\n",
              "\n",
              "    [theme=dark] .colab-df-convert:hover {\n",
              "      background-color: #434B5C;\n",
              "      box-shadow: 0px 1px 3px 1px rgba(0, 0, 0, 0.15);\n",
              "      filter: drop-shadow(0px 1px 2px rgba(0, 0, 0, 0.3));\n",
              "      fill: #FFFFFF;\n",
              "    }\n",
              "  </style>\n",
              "\n",
              "      <script>\n",
              "        const buttonEl =\n",
              "          document.querySelector('#df-ae1f0c2f-4649-4e34-a36b-e9911682fcfe button.colab-df-convert');\n",
              "        buttonEl.style.display =\n",
              "          google.colab.kernel.accessAllowed ? 'block' : 'none';\n",
              "\n",
              "        async function convertToInteractive(key) {\n",
              "          const element = document.querySelector('#df-ae1f0c2f-4649-4e34-a36b-e9911682fcfe');\n",
              "          const dataTable =\n",
              "            await google.colab.kernel.invokeFunction('convertToInteractive',\n",
              "                                                     [key], {});\n",
              "          if (!dataTable) return;\n",
              "\n",
              "          const docLinkHtml = 'Like what you see? Visit the ' +\n",
              "            '<a target=\"_blank\" href=https://colab.research.google.com/notebooks/data_table.ipynb>data table notebook</a>'\n",
              "            + ' to learn more about interactive tables.';\n",
              "          element.innerHTML = '';\n",
              "          dataTable['output_type'] = 'display_data';\n",
              "          await google.colab.output.renderOutput(dataTable, element);\n",
              "          const docLink = document.createElement('div');\n",
              "          docLink.innerHTML = docLinkHtml;\n",
              "          element.appendChild(docLink);\n",
              "        }\n",
              "      </script>\n",
              "    </div>\n",
              "  </div>\n",
              "  "
            ]
          },
          "metadata": {},
          "execution_count": 59
        }
      ]
    },
    {
      "cell_type": "code",
      "source": [
        "life['Country'].value_counts()"
      ],
      "metadata": {
        "colab": {
          "base_uri": "https://localhost:8080/"
        },
        "id": "tgGwXt8rmLcT",
        "outputId": "0b6a6593-62d6-427a-8080-9a230500192d"
      },
      "execution_count": null,
      "outputs": [
        {
          "output_type": "execute_result",
          "data": {
            "text/plain": [
              "Afghanistan              16\n",
              "Peru                     16\n",
              "Nicaragua                16\n",
              "Niger                    16\n",
              "Nigeria                  16\n",
              "                         ..\n",
              "Niue                      1\n",
              "San Marino                1\n",
              "Nauru                     1\n",
              "Saint Kitts and Nevis     1\n",
              "Dominica                  1\n",
              "Name: Country, Length: 193, dtype: int64"
            ]
          },
          "metadata": {},
          "execution_count": 61
        }
      ]
    },
    {
      "cell_type": "code",
      "source": [
        "life['Country'].unique()"
      ],
      "metadata": {
        "colab": {
          "base_uri": "https://localhost:8080/"
        },
        "id": "5kXFYTCSmPya",
        "outputId": "68693675-e9f3-4fd2-cb06-c620a222ad6a"
      },
      "execution_count": null,
      "outputs": [
        {
          "output_type": "execute_result",
          "data": {
            "text/plain": [
              "array(['Afghanistan', 'Albania', 'Algeria', 'Angola',\n",
              "       'Antigua and Barbuda', 'Argentina', 'Armenia', 'Australia',\n",
              "       'Austria', 'Azerbaijan', 'Bahamas', 'Bahrain', 'Bangladesh',\n",
              "       'Barbados', 'Belarus', 'Belgium', 'Belize', 'Benin', 'Bhutan',\n",
              "       'Bolivia (Plurinational State of)', 'Bosnia and Herzegovina',\n",
              "       'Botswana', 'Brazil', 'Brunei Darussalam', 'Bulgaria',\n",
              "       'Burkina Faso', 'Burundi', \"Côte d'Ivoire\", 'Cabo Verde',\n",
              "       'Cambodia', 'Cameroon', 'Canada', 'Central African Republic',\n",
              "       'Chad', 'Chile', 'China', 'Colombia', 'Comoros', 'Congo',\n",
              "       'Cook Islands', 'Costa Rica', 'Croatia', 'Cuba', 'Cyprus',\n",
              "       'Czechia', \"Democratic People's Republic of Korea\",\n",
              "       'Democratic Republic of the Congo', 'Denmark', 'Djibouti',\n",
              "       'Dominica', 'Dominican Republic', 'Ecuador', 'Egypt',\n",
              "       'El Salvador', 'Equatorial Guinea', 'Eritrea', 'Estonia',\n",
              "       'Ethiopia', 'Fiji', 'Finland', 'France', 'Gabon', 'Gambia',\n",
              "       'Georgia', 'Germany', 'Ghana', 'Greece', 'Grenada', 'Guatemala',\n",
              "       'Guinea', 'Guinea-Bissau', 'Guyana', 'Haiti', 'Honduras',\n",
              "       'Hungary', 'Iceland', 'India', 'Indonesia',\n",
              "       'Iran (Islamic Republic of)', 'Iraq', 'Ireland', 'Israel', 'Italy',\n",
              "       'Jamaica', 'Japan', 'Jordan', 'Kazakhstan', 'Kenya', 'Kiribati',\n",
              "       'Kuwait', 'Kyrgyzstan', \"Lao People's Democratic Republic\",\n",
              "       'Latvia', 'Lebanon', 'Lesotho', 'Liberia', 'Libya', 'Lithuania',\n",
              "       'Luxembourg', 'Madagascar', 'Malawi', 'Malaysia', 'Maldives',\n",
              "       'Mali', 'Malta', 'Marshall Islands', 'Mauritania', 'Mauritius',\n",
              "       'Mexico', 'Micronesia (Federated States of)', 'Monaco', 'Mongolia',\n",
              "       'Montenegro', 'Morocco', 'Mozambique', 'Myanmar', 'Namibia',\n",
              "       'Nauru', 'Nepal', 'Netherlands', 'New Zealand', 'Nicaragua',\n",
              "       'Niger', 'Nigeria', 'Niue', 'Norway', 'Oman', 'Pakistan', 'Palau',\n",
              "       'Panama', 'Papua New Guinea', 'Paraguay', 'Peru', 'Philippines',\n",
              "       'Poland', 'Portugal', 'Qatar', 'Republic of Korea',\n",
              "       'Republic of Moldova', 'Romania', 'Russian Federation', 'Rwanda',\n",
              "       'Saint Kitts and Nevis', 'Saint Lucia',\n",
              "       'Saint Vincent and the Grenadines', 'Samoa', 'San Marino',\n",
              "       'Sao Tome and Principe', 'Saudi Arabia', 'Senegal', 'Serbia',\n",
              "       'Seychelles', 'Sierra Leone', 'Singapore', 'Slovakia', 'Slovenia',\n",
              "       'Solomon Islands', 'Somalia', 'South Africa', 'South Sudan',\n",
              "       'Spain', 'Sri Lanka', 'Sudan', 'Suriname', 'Swaziland', 'Sweden',\n",
              "       'Switzerland', 'Syrian Arab Republic', 'Tajikistan', 'Thailand',\n",
              "       'The former Yugoslav republic of Macedonia', 'Timor-Leste', 'Togo',\n",
              "       'Tonga', 'Trinidad and Tobago', 'Tunisia', 'Turkey',\n",
              "       'Turkmenistan', 'Tuvalu', 'Uganda', 'Ukraine',\n",
              "       'United Arab Emirates',\n",
              "       'United Kingdom of Great Britain and Northern Ireland',\n",
              "       'United Republic of Tanzania', 'United States of America',\n",
              "       'Uruguay', 'Uzbekistan', 'Vanuatu',\n",
              "       'Venezuela (Bolivarian Republic of)', 'Viet Nam', 'Yemen',\n",
              "       'Zambia', 'Zimbabwe'], dtype=object)"
            ]
          },
          "metadata": {},
          "execution_count": 62
        }
      ]
    },
    {
      "cell_type": "code",
      "source": [
        "mask = life['Country'] == 'United States of America'\n",
        "usa = life[mask].copy()"
      ],
      "metadata": {
        "id": "XPk_XJUBmh1S"
      },
      "execution_count": null,
      "outputs": []
    },
    {
      "cell_type": "code",
      "source": [
        "usa.columns"
      ],
      "metadata": {
        "colab": {
          "base_uri": "https://localhost:8080/"
        },
        "id": "c8t5wRuymqLf",
        "outputId": "9767f7f1-dea1-440b-ea07-075cb2cf0949"
      },
      "execution_count": null,
      "outputs": [
        {
          "output_type": "execute_result",
          "data": {
            "text/plain": [
              "Index(['Country', 'Year', 'Status', 'Life expectancy ', 'Adult Mortality',\n",
              "       'infant deaths', 'Alcohol', 'percentage expenditure', 'Hepatitis B',\n",
              "       'Measles ', ' BMI ', 'under-five deaths ', 'Polio', 'Total expenditure',\n",
              "       'Diphtheria ', ' HIV/AIDS', 'GDP', 'Population',\n",
              "       ' thinness  1-19 years', ' thinness 5-9 years',\n",
              "       'Income composition of resources', 'Schooling'],\n",
              "      dtype='object')"
            ]
          },
          "metadata": {},
          "execution_count": 69
        }
      ]
    },
    {
      "cell_type": "code",
      "source": [
        "usa = usa[['Year', 'Life expectancy ']].copy()"
      ],
      "metadata": {
        "id": "3GwDun6tm3vt"
      },
      "execution_count": null,
      "outputs": []
    },
    {
      "cell_type": "code",
      "source": [
        "usa.columns = ['year', 'life_expct']"
      ],
      "metadata": {
        "id": "mv_KPwPAnIMz"
      },
      "execution_count": null,
      "outputs": []
    },
    {
      "cell_type": "code",
      "source": [
        "usa"
      ],
      "metadata": {
        "colab": {
          "base_uri": "https://localhost:8080/",
          "height": 551
        },
        "id": "f9HvH1OinLfZ",
        "outputId": "417813f8-3648-4051-fe2e-8dd4bda63364"
      },
      "execution_count": null,
      "outputs": [
        {
          "output_type": "execute_result",
          "data": {
            "text/plain": [
              "      year  life_expct\n",
              "2794  2015        79.3\n",
              "2795  2014        79.1\n",
              "2796  2013        78.9\n",
              "2797  2012        78.8\n",
              "2798  2011        78.7\n",
              "2799  2010        78.7\n",
              "2800  2009        78.5\n",
              "2801  2008        78.2\n",
              "2802  2007        78.1\n",
              "2803  2006        77.8\n",
              "2804  2005        77.5\n",
              "2805  2004        77.5\n",
              "2806  2003        77.2\n",
              "2807  2002        77.0\n",
              "2808  2001        76.9\n",
              "2809  2000        76.8"
            ],
            "text/html": [
              "\n",
              "  <div id=\"df-a11af688-afdd-4fc6-9f5e-d7d506f5a1d3\">\n",
              "    <div class=\"colab-df-container\">\n",
              "      <div>\n",
              "<style scoped>\n",
              "    .dataframe tbody tr th:only-of-type {\n",
              "        vertical-align: middle;\n",
              "    }\n",
              "\n",
              "    .dataframe tbody tr th {\n",
              "        vertical-align: top;\n",
              "    }\n",
              "\n",
              "    .dataframe thead th {\n",
              "        text-align: right;\n",
              "    }\n",
              "</style>\n",
              "<table border=\"1\" class=\"dataframe\">\n",
              "  <thead>\n",
              "    <tr style=\"text-align: right;\">\n",
              "      <th></th>\n",
              "      <th>year</th>\n",
              "      <th>life_expct</th>\n",
              "    </tr>\n",
              "  </thead>\n",
              "  <tbody>\n",
              "    <tr>\n",
              "      <th>2794</th>\n",
              "      <td>2015</td>\n",
              "      <td>79.3</td>\n",
              "    </tr>\n",
              "    <tr>\n",
              "      <th>2795</th>\n",
              "      <td>2014</td>\n",
              "      <td>79.1</td>\n",
              "    </tr>\n",
              "    <tr>\n",
              "      <th>2796</th>\n",
              "      <td>2013</td>\n",
              "      <td>78.9</td>\n",
              "    </tr>\n",
              "    <tr>\n",
              "      <th>2797</th>\n",
              "      <td>2012</td>\n",
              "      <td>78.8</td>\n",
              "    </tr>\n",
              "    <tr>\n",
              "      <th>2798</th>\n",
              "      <td>2011</td>\n",
              "      <td>78.7</td>\n",
              "    </tr>\n",
              "    <tr>\n",
              "      <th>2799</th>\n",
              "      <td>2010</td>\n",
              "      <td>78.7</td>\n",
              "    </tr>\n",
              "    <tr>\n",
              "      <th>2800</th>\n",
              "      <td>2009</td>\n",
              "      <td>78.5</td>\n",
              "    </tr>\n",
              "    <tr>\n",
              "      <th>2801</th>\n",
              "      <td>2008</td>\n",
              "      <td>78.2</td>\n",
              "    </tr>\n",
              "    <tr>\n",
              "      <th>2802</th>\n",
              "      <td>2007</td>\n",
              "      <td>78.1</td>\n",
              "    </tr>\n",
              "    <tr>\n",
              "      <th>2803</th>\n",
              "      <td>2006</td>\n",
              "      <td>77.8</td>\n",
              "    </tr>\n",
              "    <tr>\n",
              "      <th>2804</th>\n",
              "      <td>2005</td>\n",
              "      <td>77.5</td>\n",
              "    </tr>\n",
              "    <tr>\n",
              "      <th>2805</th>\n",
              "      <td>2004</td>\n",
              "      <td>77.5</td>\n",
              "    </tr>\n",
              "    <tr>\n",
              "      <th>2806</th>\n",
              "      <td>2003</td>\n",
              "      <td>77.2</td>\n",
              "    </tr>\n",
              "    <tr>\n",
              "      <th>2807</th>\n",
              "      <td>2002</td>\n",
              "      <td>77.0</td>\n",
              "    </tr>\n",
              "    <tr>\n",
              "      <th>2808</th>\n",
              "      <td>2001</td>\n",
              "      <td>76.9</td>\n",
              "    </tr>\n",
              "    <tr>\n",
              "      <th>2809</th>\n",
              "      <td>2000</td>\n",
              "      <td>76.8</td>\n",
              "    </tr>\n",
              "  </tbody>\n",
              "</table>\n",
              "</div>\n",
              "      <button class=\"colab-df-convert\" onclick=\"convertToInteractive('df-a11af688-afdd-4fc6-9f5e-d7d506f5a1d3')\"\n",
              "              title=\"Convert this dataframe to an interactive table.\"\n",
              "              style=\"display:none;\">\n",
              "        \n",
              "  <svg xmlns=\"http://www.w3.org/2000/svg\" height=\"24px\"viewBox=\"0 0 24 24\"\n",
              "       width=\"24px\">\n",
              "    <path d=\"M0 0h24v24H0V0z\" fill=\"none\"/>\n",
              "    <path d=\"M18.56 5.44l.94 2.06.94-2.06 2.06-.94-2.06-.94-.94-2.06-.94 2.06-2.06.94zm-11 1L8.5 8.5l.94-2.06 2.06-.94-2.06-.94L8.5 2.5l-.94 2.06-2.06.94zm10 10l.94 2.06.94-2.06 2.06-.94-2.06-.94-.94-2.06-.94 2.06-2.06.94z\"/><path d=\"M17.41 7.96l-1.37-1.37c-.4-.4-.92-.59-1.43-.59-.52 0-1.04.2-1.43.59L10.3 9.45l-7.72 7.72c-.78.78-.78 2.05 0 2.83L4 21.41c.39.39.9.59 1.41.59.51 0 1.02-.2 1.41-.59l7.78-7.78 2.81-2.81c.8-.78.8-2.07 0-2.86zM5.41 20L4 18.59l7.72-7.72 1.47 1.35L5.41 20z\"/>\n",
              "  </svg>\n",
              "      </button>\n",
              "      \n",
              "  <style>\n",
              "    .colab-df-container {\n",
              "      display:flex;\n",
              "      flex-wrap:wrap;\n",
              "      gap: 12px;\n",
              "    }\n",
              "\n",
              "    .colab-df-convert {\n",
              "      background-color: #E8F0FE;\n",
              "      border: none;\n",
              "      border-radius: 50%;\n",
              "      cursor: pointer;\n",
              "      display: none;\n",
              "      fill: #1967D2;\n",
              "      height: 32px;\n",
              "      padding: 0 0 0 0;\n",
              "      width: 32px;\n",
              "    }\n",
              "\n",
              "    .colab-df-convert:hover {\n",
              "      background-color: #E2EBFA;\n",
              "      box-shadow: 0px 1px 2px rgba(60, 64, 67, 0.3), 0px 1px 3px 1px rgba(60, 64, 67, 0.15);\n",
              "      fill: #174EA6;\n",
              "    }\n",
              "\n",
              "    [theme=dark] .colab-df-convert {\n",
              "      background-color: #3B4455;\n",
              "      fill: #D2E3FC;\n",
              "    }\n",
              "\n",
              "    [theme=dark] .colab-df-convert:hover {\n",
              "      background-color: #434B5C;\n",
              "      box-shadow: 0px 1px 3px 1px rgba(0, 0, 0, 0.15);\n",
              "      filter: drop-shadow(0px 1px 2px rgba(0, 0, 0, 0.3));\n",
              "      fill: #FFFFFF;\n",
              "    }\n",
              "  </style>\n",
              "\n",
              "      <script>\n",
              "        const buttonEl =\n",
              "          document.querySelector('#df-a11af688-afdd-4fc6-9f5e-d7d506f5a1d3 button.colab-df-convert');\n",
              "        buttonEl.style.display =\n",
              "          google.colab.kernel.accessAllowed ? 'block' : 'none';\n",
              "\n",
              "        async function convertToInteractive(key) {\n",
              "          const element = document.querySelector('#df-a11af688-afdd-4fc6-9f5e-d7d506f5a1d3');\n",
              "          const dataTable =\n",
              "            await google.colab.kernel.invokeFunction('convertToInteractive',\n",
              "                                                     [key], {});\n",
              "          if (!dataTable) return;\n",
              "\n",
              "          const docLinkHtml = 'Like what you see? Visit the ' +\n",
              "            '<a target=\"_blank\" href=https://colab.research.google.com/notebooks/data_table.ipynb>data table notebook</a>'\n",
              "            + ' to learn more about interactive tables.';\n",
              "          element.innerHTML = '';\n",
              "          dataTable['output_type'] = 'display_data';\n",
              "          await google.colab.output.renderOutput(dataTable, element);\n",
              "          const docLink = document.createElement('div');\n",
              "          docLink.innerHTML = docLinkHtml;\n",
              "          element.appendChild(docLink);\n",
              "        }\n",
              "      </script>\n",
              "    </div>\n",
              "  </div>\n",
              "  "
            ]
          },
          "metadata": {},
          "execution_count": 75
        }
      ]
    },
    {
      "cell_type": "code",
      "source": [
        "sns.lmplot(x= 'year', y = 'life_expct', data=usa)"
      ],
      "metadata": {
        "colab": {
          "base_uri": "https://localhost:8080/",
          "height": 387
        },
        "id": "0xjtqHQinRnN",
        "outputId": "c0ef873f-0d60-4264-9e48-5275599d840e"
      },
      "execution_count": null,
      "outputs": [
        {
          "output_type": "execute_result",
          "data": {
            "text/plain": [
              "<seaborn.axisgrid.FacetGrid at 0x7f5fed70fed0>"
            ]
          },
          "metadata": {},
          "execution_count": 76
        },
        {
          "output_type": "display_data",
          "data": {
            "text/plain": [
              "<Figure size 360x360 with 1 Axes>"
            ],
            "image/png": "[encoded data removed]"
          },
          "metadata": {
            "needs_background": "light"
          }
        }
      ]
    },
    {
      "cell_type": "code",
      "source": [
        "model = ols(\"life_expct ~ year\", data= usa).fit()\n",
        "print(model.summary())"
      ],
      "metadata": {
        "colab": {
          "base_uri": "https://localhost:8080/"
        },
        "id": "HYJlRpPFnbe-",
        "outputId": "b61ad249-7cfc-4730-cdd2-d214bf2161ee"
      },
      "execution_count": null,
      "outputs": [
        {
          "output_type": "stream",
          "name": "stdout",
          "text": [
            "                            OLS Regression Results                            \n",
            "==============================================================================\n",
            "Dep. Variable:             life_expct   R-squared:                       0.985\n",
            "Model:                            OLS   Adj. R-squared:                  0.984\n",
            "Method:                 Least Squares   F-statistic:                     900.0\n",
            "Date:                Mon, 28 Mar 2022   Prob (F-statistic):           4.17e-14\n",
            "Time:                        17:41:32   Log-Likelihood:                 14.175\n",
            "No. Observations:                  16   AIC:                            -24.35\n",
            "Df Residuals:                      14   BIC:                            -22.81\n",
            "Df Model:                           1                                         \n",
            "Covariance Type:            nonrobust                                         \n",
            "==============================================================================\n",
            "                 coef    std err          t      P>|t|      [0.025      0.975]\n",
            "------------------------------------------------------------------------------\n",
            "Intercept   -270.2978     11.612    -23.277      0.000    -295.203    -245.392\n",
            "year           0.1735      0.006     30.000      0.000       0.161       0.186\n",
            "==============================================================================\n",
            "Omnibus:                        1.556   Durbin-Watson:                   0.967\n",
            "Prob(Omnibus):                  0.459   Jarque-Bera (JB):                1.271\n",
            "Skew:                           0.603   Prob(JB):                        0.530\n",
            "Kurtosis:                       2.327   Cond. No.                     8.74e+05\n",
            "==============================================================================\n",
            "\n",
            "Warnings:\n",
            "[1] Standard Errors assume that the covariance matrix of the errors is correctly specified.\n",
            "[2] The condition number is large, 8.74e+05. This might indicate that there are\n",
            "strong multicollinearity or other numerical problems.\n"
          ]
        },
        {
          "output_type": "stream",
          "name": "stderr",
          "text": [
            "/usr/local/lib/python3.7/dist-packages/scipy/stats/stats.py:1535: UserWarning: kurtosistest only valid for n>=20 ... continuing anyway, n=16\n",
            "  \"anyway, n=%i\" % int(n))\n"
          ]
        }
      ]
    },
    {
      "cell_type": "code",
      "source": [
        "usa"
      ],
      "metadata": {
        "colab": {
          "base_uri": "https://localhost:8080/",
          "height": 551
        },
        "id": "tFT_Y4z7nkLh",
        "outputId": "f4cabe40-8063-4b1c-94b8-b0d571f02f04"
      },
      "execution_count": null,
      "outputs": [
        {
          "output_type": "execute_result",
          "data": {
            "text/plain": [
              "      year  life_expct\n",
              "2794  2015        79.3\n",
              "2795  2014        79.1\n",
              "2796  2013        78.9\n",
              "2797  2012        78.8\n",
              "2798  2011        78.7\n",
              "2799  2010        78.7\n",
              "2800  2009        78.5\n",
              "2801  2008        78.2\n",
              "2802  2007        78.1\n",
              "2803  2006        77.8\n",
              "2804  2005        77.5\n",
              "2805  2004        77.5\n",
              "2806  2003        77.2\n",
              "2807  2002        77.0\n",
              "2808  2001        76.9\n",
              "2809  2000        76.8"
            ],
            "text/html": [
              "\n",
              "  <div id=\"df-1717f45b-59b4-47e4-812d-ca1b6f51411b\">\n",
              "    <div class=\"colab-df-container\">\n",
              "      <div>\n",
              "<style scoped>\n",
              "    .dataframe tbody tr th:only-of-type {\n",
              "        vertical-align: middle;\n",
              "    }\n",
              "\n",
              "    .dataframe tbody tr th {\n",
              "        vertical-align: top;\n",
              "    }\n",
              "\n",
              "    .dataframe thead th {\n",
              "        text-align: right;\n",
              "    }\n",
              "</style>\n",
              "<table border=\"1\" class=\"dataframe\">\n",
              "  <thead>\n",
              "    <tr style=\"text-align: right;\">\n",
              "      <th></th>\n",
              "      <th>year</th>\n",
              "      <th>life_expct</th>\n",
              "    </tr>\n",
              "  </thead>\n",
              "  <tbody>\n",
              "    <tr>\n",
              "      <th>2794</th>\n",
              "      <td>2015</td>\n",
              "      <td>79.3</td>\n",
              "    </tr>\n",
              "    <tr>\n",
              "      <th>2795</th>\n",
              "      <td>2014</td>\n",
              "      <td>79.1</td>\n",
              "    </tr>\n",
              "    <tr>\n",
              "      <th>2796</th>\n",
              "      <td>2013</td>\n",
              "      <td>78.9</td>\n",
              "    </tr>\n",
              "    <tr>\n",
              "      <th>2797</th>\n",
              "      <td>2012</td>\n",
              "      <td>78.8</td>\n",
              "    </tr>\n",
              "    <tr>\n",
              "      <th>2798</th>\n",
              "      <td>2011</td>\n",
              "      <td>78.7</td>\n",
              "    </tr>\n",
              "    <tr>\n",
              "      <th>2799</th>\n",
              "      <td>2010</td>\n",
              "      <td>78.7</td>\n",
              "    </tr>\n",
              "    <tr>\n",
              "      <th>2800</th>\n",
              "      <td>2009</td>\n",
              "      <td>78.5</td>\n",
              "    </tr>\n",
              "    <tr>\n",
              "      <th>2801</th>\n",
              "      <td>2008</td>\n",
              "      <td>78.2</td>\n",
              "    </tr>\n",
              "    <tr>\n",
              "      <th>2802</th>\n",
              "      <td>2007</td>\n",
              "      <td>78.1</td>\n",
              "    </tr>\n",
              "    <tr>\n",
              "      <th>2803</th>\n",
              "      <td>2006</td>\n",
              "      <td>77.8</td>\n",
              "    </tr>\n",
              "    <tr>\n",
              "      <th>2804</th>\n",
              "      <td>2005</td>\n",
              "      <td>77.5</td>\n",
              "    </tr>\n",
              "    <tr>\n",
              "      <th>2805</th>\n",
              "      <td>2004</td>\n",
              "      <td>77.5</td>\n",
              "    </tr>\n",
              "    <tr>\n",
              "      <th>2806</th>\n",
              "      <td>2003</td>\n",
              "      <td>77.2</td>\n",
              "    </tr>\n",
              "    <tr>\n",
              "      <th>2807</th>\n",
              "      <td>2002</td>\n",
              "      <td>77.0</td>\n",
              "    </tr>\n",
              "    <tr>\n",
              "      <th>2808</th>\n",
              "      <td>2001</td>\n",
              "      <td>76.9</td>\n",
              "    </tr>\n",
              "    <tr>\n",
              "      <th>2809</th>\n",
              "      <td>2000</td>\n",
              "      <td>76.8</td>\n",
              "    </tr>\n",
              "  </tbody>\n",
              "</table>\n",
              "</div>\n",
              "      <button class=\"colab-df-convert\" onclick=\"convertToInteractive('df-1717f45b-59b4-47e4-812d-ca1b6f51411b')\"\n",
              "              title=\"Convert this dataframe to an interactive table.\"\n",
              "              style=\"display:none;\">\n",
              "        \n",
              "  <svg xmlns=\"http://www.w3.org/2000/svg\" height=\"24px\"viewBox=\"0 0 24 24\"\n",
              "       width=\"24px\">\n",
              "    <path d=\"M0 0h24v24H0V0z\" fill=\"none\"/>\n",
              "    <path d=\"M18.56 5.44l.94 2.06.94-2.06 2.06-.94-2.06-.94-.94-2.06-.94 2.06-2.06.94zm-11 1L8.5 8.5l.94-2.06 2.06-.94-2.06-.94L8.5 2.5l-.94 2.06-2.06.94zm10 10l.94 2.06.94-2.06 2.06-.94-2.06-.94-.94-2.06-.94 2.06-2.06.94z\"/><path d=\"M17.41 7.96l-1.37-1.37c-.4-.4-.92-.59-1.43-.59-.52 0-1.04.2-1.43.59L10.3 9.45l-7.72 7.72c-.78.78-.78 2.05 0 2.83L4 21.41c.39.39.9.59 1.41.59.51 0 1.02-.2 1.41-.59l7.78-7.78 2.81-2.81c.8-.78.8-2.07 0-2.86zM5.41 20L4 18.59l7.72-7.72 1.47 1.35L5.41 20z\"/>\n",
              "  </svg>\n",
              "      </button>\n",
              "      \n",
              "  <style>\n",
              "    .colab-df-container {\n",
              "      display:flex;\n",
              "      flex-wrap:wrap;\n",
              "      gap: 12px;\n",
              "    }\n",
              "\n",
              "    .colab-df-convert {\n",
              "      background-color: #E8F0FE;\n",
              "      border: none;\n",
              "      border-radius: 50%;\n",
              "      cursor: pointer;\n",
              "      display: none;\n",
              "      fill: #1967D2;\n",
              "      height: 32px;\n",
              "      padding: 0 0 0 0;\n",
              "      width: 32px;\n",
              "    }\n",
              "\n",
              "    .colab-df-convert:hover {\n",
              "      background-color: #E2EBFA;\n",
              "      box-shadow: 0px 1px 2px rgba(60, 64, 67, 0.3), 0px 1px 3px 1px rgba(60, 64, 67, 0.15);\n",
              "      fill: #174EA6;\n",
              "    }\n",
              "\n",
              "    [theme=dark] .colab-df-convert {\n",
              "      background-color: #3B4455;\n",
              "      fill: #D2E3FC;\n",
              "    }\n",
              "\n",
              "    [theme=dark] .colab-df-convert:hover {\n",
              "      background-color: #434B5C;\n",
              "      box-shadow: 0px 1px 3px 1px rgba(0, 0, 0, 0.15);\n",
              "      filter: drop-shadow(0px 1px 2px rgba(0, 0, 0, 0.3));\n",
              "      fill: #FFFFFF;\n",
              "    }\n",
              "  </style>\n",
              "\n",
              "      <script>\n",
              "        const buttonEl =\n",
              "          document.querySelector('#df-1717f45b-59b4-47e4-812d-ca1b6f51411b button.colab-df-convert');\n",
              "        buttonEl.style.display =\n",
              "          google.colab.kernel.accessAllowed ? 'block' : 'none';\n",
              "\n",
              "        async function convertToInteractive(key) {\n",
              "          const element = document.querySelector('#df-1717f45b-59b4-47e4-812d-ca1b6f51411b');\n",
              "          const dataTable =\n",
              "            await google.colab.kernel.invokeFunction('convertToInteractive',\n",
              "                                                     [key], {});\n",
              "          if (!dataTable) return;\n",
              "\n",
              "          const docLinkHtml = 'Like what you see? Visit the ' +\n",
              "            '<a target=\"_blank\" href=https://colab.research.google.com/notebooks/data_table.ipynb>data table notebook</a>'\n",
              "            + ' to learn more about interactive tables.';\n",
              "          element.innerHTML = '';\n",
              "          dataTable['output_type'] = 'display_data';\n",
              "          await google.colab.output.renderOutput(dataTable, element);\n",
              "          const docLink = document.createElement('div');\n",
              "          docLink.innerHTML = docLinkHtml;\n",
              "          element.appendChild(docLink);\n",
              "        }\n",
              "      </script>\n",
              "    </div>\n",
              "  </div>\n",
              "  "
            ]
          },
          "metadata": {},
          "execution_count": 79
        }
      ]
    },
    {
      "cell_type": "code",
      "source": [
        "empty_list = []\n",
        "\n",
        "x = 79.3\n",
        "\n",
        "for i in range(2016, 2022):\n",
        "  x -= .1\n",
        "  empty_list.append(x)"
      ],
      "metadata": {
        "id": "2iJxHGjUnq2U"
      },
      "execution_count": null,
      "outputs": []
    },
    {
      "cell_type": "code",
      "source": [
        "x = 79.3"
      ],
      "metadata": {
        "id": "RifEkD7QoIGw"
      },
      "execution_count": null,
      "outputs": []
    },
    {
      "cell_type": "code",
      "source": [
        "x -= .2\n",
        "x"
      ],
      "metadata": {
        "colab": {
          "base_uri": "https://localhost:8080/"
        },
        "id": "akrM5F3noSJl",
        "outputId": "014f7eae-da6c-48d1-e698-b43fe468e328"
      },
      "execution_count": null,
      "outputs": [
        {
          "output_type": "execute_result",
          "data": {
            "text/plain": [
              "76.69999999999996"
            ]
          },
          "metadata": {},
          "execution_count": 91
        }
      ]
    },
    {
      "cell_type": "code",
      "source": [
        "empty_list"
      ],
      "metadata": {
        "colab": {
          "base_uri": "https://localhost:8080/"
        },
        "id": "st4EEXteoTxS",
        "outputId": "8473aa0c-9259-4d2c-d9c2-a907569cfa83"
      },
      "execution_count": null,
      "outputs": [
        {
          "output_type": "execute_result",
          "data": {
            "text/plain": [
              "[79.2,\n",
              " 79.10000000000001,\n",
              " 79.00000000000001,\n",
              " 78.90000000000002,\n",
              " 78.80000000000003,\n",
              " 78.70000000000003]"
            ]
          },
          "metadata": {},
          "execution_count": 109
        }
      ]
    },
    {
      "cell_type": "code",
      "source": [
        "new_years = pd.DataFrame(zip(range(2016, 2022), empty_list)).sort_values(by=0, ascending = False)"
      ],
      "metadata": {
        "id": "nSCWjMEnoePB"
      },
      "execution_count": null,
      "outputs": []
    },
    {
      "cell_type": "code",
      "source": [
        "new_years"
      ],
      "metadata": {
        "colab": {
          "base_uri": "https://localhost:8080/",
          "height": 237
        },
        "id": "zKJ69sNaoo75",
        "outputId": "1c95265e-97be-4dde-e3fc-85eb665b6554"
      },
      "execution_count": null,
      "outputs": [
        {
          "output_type": "execute_result",
          "data": {
            "text/plain": [
              "      0     1\n",
              "5  2021  78.7\n",
              "4  2020  78.8\n",
              "3  2019  78.9\n",
              "2  2018  79.0\n",
              "1  2017  79.1\n",
              "0  2016  79.2"
            ],
            "text/html": [
              "\n",
              "  <div id=\"df-ba00406d-e912-44e0-b798-75902e9d229e\">\n",
              "    <div class=\"colab-df-container\">\n",
              "      <div>\n",
              "<style scoped>\n",
              "    .dataframe tbody tr th:only-of-type {\n",
              "        vertical-align: middle;\n",
              "    }\n",
              "\n",
              "    .dataframe tbody tr th {\n",
              "        vertical-align: top;\n",
              "    }\n",
              "\n",
              "    .dataframe thead th {\n",
              "        text-align: right;\n",
              "    }\n",
              "</style>\n",
              "<table border=\"1\" class=\"dataframe\">\n",
              "  <thead>\n",
              "    <tr style=\"text-align: right;\">\n",
              "      <th></th>\n",
              "      <th>0</th>\n",
              "      <th>1</th>\n",
              "    </tr>\n",
              "  </thead>\n",
              "  <tbody>\n",
              "    <tr>\n",
              "      <th>5</th>\n",
              "      <td>2021</td>\n",
              "      <td>78.7</td>\n",
              "    </tr>\n",
              "    <tr>\n",
              "      <th>4</th>\n",
              "      <td>2020</td>\n",
              "      <td>78.8</td>\n",
              "    </tr>\n",
              "    <tr>\n",
              "      <th>3</th>\n",
              "      <td>2019</td>\n",
              "      <td>78.9</td>\n",
              "    </tr>\n",
              "    <tr>\n",
              "      <th>2</th>\n",
              "      <td>2018</td>\n",
              "      <td>79.0</td>\n",
              "    </tr>\n",
              "    <tr>\n",
              "      <th>1</th>\n",
              "      <td>2017</td>\n",
              "      <td>79.1</td>\n",
              "    </tr>\n",
              "    <tr>\n",
              "      <th>0</th>\n",
              "      <td>2016</td>\n",
              "      <td>79.2</td>\n",
              "    </tr>\n",
              "  </tbody>\n",
              "</table>\n",
              "</div>\n",
              "      <button class=\"colab-df-convert\" onclick=\"convertToInteractive('df-ba00406d-e912-44e0-b798-75902e9d229e')\"\n",
              "              title=\"Convert this dataframe to an interactive table.\"\n",
              "              style=\"display:none;\">\n",
              "        \n",
              "  <svg xmlns=\"http://www.w3.org/2000/svg\" height=\"24px\"viewBox=\"0 0 24 24\"\n",
              "       width=\"24px\">\n",
              "    <path d=\"M0 0h24v24H0V0z\" fill=\"none\"/>\n",
              "    <path d=\"M18.56 5.44l.94 2.06.94-2.06 2.06-.94-2.06-.94-.94-2.06-.94 2.06-2.06.94zm-11 1L8.5 8.5l.94-2.06 2.06-.94-2.06-.94L8.5 2.5l-.94 2.06-2.06.94zm10 10l.94 2.06.94-2.06 2.06-.94-2.06-.94-.94-2.06-.94 2.06-2.06.94z\"/><path d=\"M17.41 7.96l-1.37-1.37c-.4-.4-.92-.59-1.43-.59-.52 0-1.04.2-1.43.59L10.3 9.45l-7.72 7.72c-.78.78-.78 2.05 0 2.83L4 21.41c.39.39.9.59 1.41.59.51 0 1.02-.2 1.41-.59l7.78-7.78 2.81-2.81c.8-.78.8-2.07 0-2.86zM5.41 20L4 18.59l7.72-7.72 1.47 1.35L5.41 20z\"/>\n",
              "  </svg>\n",
              "      </button>\n",
              "      \n",
              "  <style>\n",
              "    .colab-df-container {\n",
              "      display:flex;\n",
              "      flex-wrap:wrap;\n",
              "      gap: 12px;\n",
              "    }\n",
              "\n",
              "    .colab-df-convert {\n",
              "      background-color: #E8F0FE;\n",
              "      border: none;\n",
              "      border-radius: 50%;\n",
              "      cursor: pointer;\n",
              "      display: none;\n",
              "      fill: #1967D2;\n",
              "      height: 32px;\n",
              "      padding: 0 0 0 0;\n",
              "      width: 32px;\n",
              "    }\n",
              "\n",
              "    .colab-df-convert:hover {\n",
              "      background-color: #E2EBFA;\n",
              "      box-shadow: 0px 1px 2px rgba(60, 64, 67, 0.3), 0px 1px 3px 1px rgba(60, 64, 67, 0.15);\n",
              "      fill: #174EA6;\n",
              "    }\n",
              "\n",
              "    [theme=dark] .colab-df-convert {\n",
              "      background-color: #3B4455;\n",
              "      fill: #D2E3FC;\n",
              "    }\n",
              "\n",
              "    [theme=dark] .colab-df-convert:hover {\n",
              "      background-color: #434B5C;\n",
              "      box-shadow: 0px 1px 3px 1px rgba(0, 0, 0, 0.15);\n",
              "      filter: drop-shadow(0px 1px 2px rgba(0, 0, 0, 0.3));\n",
              "      fill: #FFFFFF;\n",
              "    }\n",
              "  </style>\n",
              "\n",
              "      <script>\n",
              "        const buttonEl =\n",
              "          document.querySelector('#df-ba00406d-e912-44e0-b798-75902e9d229e button.colab-df-convert');\n",
              "        buttonEl.style.display =\n",
              "          google.colab.kernel.accessAllowed ? 'block' : 'none';\n",
              "\n",
              "        async function convertToInteractive(key) {\n",
              "          const element = document.querySelector('#df-ba00406d-e912-44e0-b798-75902e9d229e');\n",
              "          const dataTable =\n",
              "            await google.colab.kernel.invokeFunction('convertToInteractive',\n",
              "                                                     [key], {});\n",
              "          if (!dataTable) return;\n",
              "\n",
              "          const docLinkHtml = 'Like what you see? Visit the ' +\n",
              "            '<a target=\"_blank\" href=https://colab.research.google.com/notebooks/data_table.ipynb>data table notebook</a>'\n",
              "            + ' to learn more about interactive tables.';\n",
              "          element.innerHTML = '';\n",
              "          dataTable['output_type'] = 'display_data';\n",
              "          await google.colab.output.renderOutput(dataTable, element);\n",
              "          const docLink = document.createElement('div');\n",
              "          docLink.innerHTML = docLinkHtml;\n",
              "          element.appendChild(docLink);\n",
              "        }\n",
              "      </script>\n",
              "    </div>\n",
              "  </div>\n",
              "  "
            ]
          },
          "metadata": {},
          "execution_count": 111
        }
      ]
    },
    {
      "cell_type": "code",
      "source": [
        "new_years.columns = usa.columns"
      ],
      "metadata": {
        "id": "6IS0iB9FpDXE"
      },
      "execution_count": null,
      "outputs": []
    },
    {
      "cell_type": "code",
      "source": [
        "new_usa = pd.concat([new_years, usa])"
      ],
      "metadata": {
        "id": "g5jM6i5Popt-"
      },
      "execution_count": null,
      "outputs": []
    },
    {
      "cell_type": "code",
      "source": [
        "new_usa"
      ],
      "metadata": {
        "colab": {
          "base_uri": "https://localhost:8080/",
          "height": 739
        },
        "id": "PBXu7vDupBN9",
        "outputId": "10dc7982-3938-4eca-b934-f7020126c9b5"
      },
      "execution_count": null,
      "outputs": [
        {
          "output_type": "execute_result",
          "data": {
            "text/plain": [
              "      year  life_expct\n",
              "5     2021        78.7\n",
              "4     2020        78.8\n",
              "3     2019        78.9\n",
              "2     2018        79.0\n",
              "1     2017        79.1\n",
              "0     2016        79.2\n",
              "2794  2015        79.3\n",
              "2795  2014        79.1\n",
              "2796  2013        78.9\n",
              "2797  2012        78.8\n",
              "2798  2011        78.7\n",
              "2799  2010        78.7\n",
              "2800  2009        78.5\n",
              "2801  2008        78.2\n",
              "2802  2007        78.1\n",
              "2803  2006        77.8\n",
              "2804  2005        77.5\n",
              "2805  2004        77.5\n",
              "2806  2003        77.2\n",
              "2807  2002        77.0\n",
              "2808  2001        76.9\n",
              "2809  2000        76.8"
            ],
            "text/html": [
              "\n",
              "  <div id=\"df-48f25afe-1b96-47ac-a515-54af96813f93\">\n",
              "    <div class=\"colab-df-container\">\n",
              "      <div>\n",
              "<style scoped>\n",
              "    .dataframe tbody tr th:only-of-type {\n",
              "        vertical-align: middle;\n",
              "    }\n",
              "\n",
              "    .dataframe tbody tr th {\n",
              "        vertical-align: top;\n",
              "    }\n",
              "\n",
              "    .dataframe thead th {\n",
              "        text-align: right;\n",
              "    }\n",
              "</style>\n",
              "<table border=\"1\" class=\"dataframe\">\n",
              "  <thead>\n",
              "    <tr style=\"text-align: right;\">\n",
              "      <th></th>\n",
              "      <th>year</th>\n",
              "      <th>life_expct</th>\n",
              "    </tr>\n",
              "  </thead>\n",
              "  <tbody>\n",
              "    <tr>\n",
              "      <th>5</th>\n",
              "      <td>2021</td>\n",
              "      <td>78.7</td>\n",
              "    </tr>\n",
              "    <tr>\n",
              "      <th>4</th>\n",
              "      <td>2020</td>\n",
              "      <td>78.8</td>\n",
              "    </tr>\n",
              "    <tr>\n",
              "      <th>3</th>\n",
              "      <td>2019</td>\n",
              "      <td>78.9</td>\n",
              "    </tr>\n",
              "    <tr>\n",
              "      <th>2</th>\n",
              "      <td>2018</td>\n",
              "      <td>79.0</td>\n",
              "    </tr>\n",
              "    <tr>\n",
              "      <th>1</th>\n",
              "      <td>2017</td>\n",
              "      <td>79.1</td>\n",
              "    </tr>\n",
              "    <tr>\n",
              "      <th>0</th>\n",
              "      <td>2016</td>\n",
              "      <td>79.2</td>\n",
              "    </tr>\n",
              "    <tr>\n",
              "      <th>2794</th>\n",
              "      <td>2015</td>\n",
              "      <td>79.3</td>\n",
              "    </tr>\n",
              "    <tr>\n",
              "      <th>2795</th>\n",
              "      <td>2014</td>\n",
              "      <td>79.1</td>\n",
              "    </tr>\n",
              "    <tr>\n",
              "      <th>2796</th>\n",
              "      <td>2013</td>\n",
              "      <td>78.9</td>\n",
              "    </tr>\n",
              "    <tr>\n",
              "      <th>2797</th>\n",
              "      <td>2012</td>\n",
              "      <td>78.8</td>\n",
              "    </tr>\n",
              "    <tr>\n",
              "      <th>2798</th>\n",
              "      <td>2011</td>\n",
              "      <td>78.7</td>\n",
              "    </tr>\n",
              "    <tr>\n",
              "      <th>2799</th>\n",
              "      <td>2010</td>\n",
              "      <td>78.7</td>\n",
              "    </tr>\n",
              "    <tr>\n",
              "      <th>2800</th>\n",
              "      <td>2009</td>\n",
              "      <td>78.5</td>\n",
              "    </tr>\n",
              "    <tr>\n",
              "      <th>2801</th>\n",
              "      <td>2008</td>\n",
              "      <td>78.2</td>\n",
              "    </tr>\n",
              "    <tr>\n",
              "      <th>2802</th>\n",
              "      <td>2007</td>\n",
              "      <td>78.1</td>\n",
              "    </tr>\n",
              "    <tr>\n",
              "      <th>2803</th>\n",
              "      <td>2006</td>\n",
              "      <td>77.8</td>\n",
              "    </tr>\n",
              "    <tr>\n",
              "      <th>2804</th>\n",
              "      <td>2005</td>\n",
              "      <td>77.5</td>\n",
              "    </tr>\n",
              "    <tr>\n",
              "      <th>2805</th>\n",
              "      <td>2004</td>\n",
              "      <td>77.5</td>\n",
              "    </tr>\n",
              "    <tr>\n",
              "      <th>2806</th>\n",
              "      <td>2003</td>\n",
              "      <td>77.2</td>\n",
              "    </tr>\n",
              "    <tr>\n",
              "      <th>2807</th>\n",
              "      <td>2002</td>\n",
              "      <td>77.0</td>\n",
              "    </tr>\n",
              "    <tr>\n",
              "      <th>2808</th>\n",
              "      <td>2001</td>\n",
              "      <td>76.9</td>\n",
              "    </tr>\n",
              "    <tr>\n",
              "      <th>2809</th>\n",
              "      <td>2000</td>\n",
              "      <td>76.8</td>\n",
              "    </tr>\n",
              "  </tbody>\n",
              "</table>\n",
              "</div>\n",
              "      <button class=\"colab-df-convert\" onclick=\"convertToInteractive('df-48f25afe-1b96-47ac-a515-54af96813f93')\"\n",
              "              title=\"Convert this dataframe to an interactive table.\"\n",
              "              style=\"display:none;\">\n",
              "        \n",
              "  <svg xmlns=\"http://www.w3.org/2000/svg\" height=\"24px\"viewBox=\"0 0 24 24\"\n",
              "       width=\"24px\">\n",
              "    <path d=\"M0 0h24v24H0V0z\" fill=\"none\"/>\n",
              "    <path d=\"M18.56 5.44l.94 2.06.94-2.06 2.06-.94-2.06-.94-.94-2.06-.94 2.06-2.06.94zm-11 1L8.5 8.5l.94-2.06 2.06-.94-2.06-.94L8.5 2.5l-.94 2.06-2.06.94zm10 10l.94 2.06.94-2.06 2.06-.94-2.06-.94-.94-2.06-.94 2.06-2.06.94z\"/><path d=\"M17.41 7.96l-1.37-1.37c-.4-.4-.92-.59-1.43-.59-.52 0-1.04.2-1.43.59L10.3 9.45l-7.72 7.72c-.78.78-.78 2.05 0 2.83L4 21.41c.39.39.9.59 1.41.59.51 0 1.02-.2 1.41-.59l7.78-7.78 2.81-2.81c.8-.78.8-2.07 0-2.86zM5.41 20L4 18.59l7.72-7.72 1.47 1.35L5.41 20z\"/>\n",
              "  </svg>\n",
              "      </button>\n",
              "      \n",
              "  <style>\n",
              "    .colab-df-container {\n",
              "      display:flex;\n",
              "      flex-wrap:wrap;\n",
              "      gap: 12px;\n",
              "    }\n",
              "\n",
              "    .colab-df-convert {\n",
              "      background-color: #E8F0FE;\n",
              "      border: none;\n",
              "      border-radius: 50%;\n",
              "      cursor: pointer;\n",
              "      display: none;\n",
              "      fill: #1967D2;\n",
              "      height: 32px;\n",
              "      padding: 0 0 0 0;\n",
              "      width: 32px;\n",
              "    }\n",
              "\n",
              "    .colab-df-convert:hover {\n",
              "      background-color: #E2EBFA;\n",
              "      box-shadow: 0px 1px 2px rgba(60, 64, 67, 0.3), 0px 1px 3px 1px rgba(60, 64, 67, 0.15);\n",
              "      fill: #174EA6;\n",
              "    }\n",
              "\n",
              "    [theme=dark] .colab-df-convert {\n",
              "      background-color: #3B4455;\n",
              "      fill: #D2E3FC;\n",
              "    }\n",
              "\n",
              "    [theme=dark] .colab-df-convert:hover {\n",
              "      background-color: #434B5C;\n",
              "      box-shadow: 0px 1px 3px 1px rgba(0, 0, 0, 0.15);\n",
              "      filter: drop-shadow(0px 1px 2px rgba(0, 0, 0, 0.3));\n",
              "      fill: #FFFFFF;\n",
              "    }\n",
              "  </style>\n",
              "\n",
              "      <script>\n",
              "        const buttonEl =\n",
              "          document.querySelector('#df-48f25afe-1b96-47ac-a515-54af96813f93 button.colab-df-convert');\n",
              "        buttonEl.style.display =\n",
              "          google.colab.kernel.accessAllowed ? 'block' : 'none';\n",
              "\n",
              "        async function convertToInteractive(key) {\n",
              "          const element = document.querySelector('#df-48f25afe-1b96-47ac-a515-54af96813f93');\n",
              "          const dataTable =\n",
              "            await google.colab.kernel.invokeFunction('convertToInteractive',\n",
              "                                                     [key], {});\n",
              "          if (!dataTable) return;\n",
              "\n",
              "          const docLinkHtml = 'Like what you see? Visit the ' +\n",
              "            '<a target=\"_blank\" href=https://colab.research.google.com/notebooks/data_table.ipynb>data table notebook</a>'\n",
              "            + ' to learn more about interactive tables.';\n",
              "          element.innerHTML = '';\n",
              "          dataTable['output_type'] = 'display_data';\n",
              "          await google.colab.output.renderOutput(dataTable, element);\n",
              "          const docLink = document.createElement('div');\n",
              "          docLink.innerHTML = docLinkHtml;\n",
              "          element.appendChild(docLink);\n",
              "        }\n",
              "      </script>\n",
              "    </div>\n",
              "  </div>\n",
              "  "
            ]
          },
          "metadata": {},
          "execution_count": 114
        }
      ]
    },
    {
      "cell_type": "code",
      "source": [
        "sns.lmplot(x= 'year', y = 'life_expct', data=new_usa)"
      ],
      "metadata": {
        "colab": {
          "base_uri": "https://localhost:8080/",
          "height": 387
        },
        "id": "Yr-aCQuFpPk9",
        "outputId": "9d7bc1f5-4738-4bb6-f937-bf8e7deb564a"
      },
      "execution_count": null,
      "outputs": [
        {
          "output_type": "execute_result",
          "data": {
            "text/plain": [
              "<seaborn.axisgrid.FacetGrid at 0x7f5fee2bc710>"
            ]
          },
          "metadata": {},
          "execution_count": 115
        },
        {
          "output_type": "display_data",
          "data": {
            "text/plain": [
              "<Figure size 360x360 with 1 Axes>"
            ],
            "image/png": "[encoded data removed]"
          },
          "metadata": {
            "needs_background": "light"
          }
        }
      ]
    },
    {
      "cell_type": "code",
      "source": [
        "new_usa['life_log'] = np.log(new_usa['life_expct'])"
      ],
      "metadata": {
        "id": "HpDO-cxdpSJI"
      },
      "execution_count": null,
      "outputs": []
    },
    {
      "cell_type": "code",
      "source": [
        "sns.lmplot(x= 'year', y = 'life_log', data=new_usa)"
      ],
      "metadata": {
        "colab": {
          "base_uri": "https://localhost:8080/",
          "height": 387
        },
        "id": "j9getSkUpp5J",
        "outputId": "15bac042-20a0-40f9-d49e-5d4a812b7fb2"
      },
      "execution_count": null,
      "outputs": [
        {
          "output_type": "execute_result",
          "data": {
            "text/plain": [
              "<seaborn.axisgrid.FacetGrid at 0x7f5fee002a10>"
            ]
          },
          "metadata": {},
          "execution_count": 118
        },
        {
          "output_type": "display_data",
          "data": {
            "text/plain": [
              "<Figure size 360x360 with 1 Axes>"
            ],
            "image/png": "[encoded data removed]"
          },
          "metadata": {
            "needs_background": "light"
          }
        }
      ]
    },
    {
      "cell_type": "code",
      "source": [
        "model= ols(\"life_log ~ year\", data=new_usa).fit()\n",
        "print(model.summary())"
      ],
      "metadata": {
        "colab": {
          "base_uri": "https://localhost:8080/"
        },
        "id": "UyiRZfDIpwa1",
        "outputId": "a57301e4-8c73-4597-da4f-82bfaa7918bc"
      },
      "execution_count": null,
      "outputs": [
        {
          "output_type": "stream",
          "name": "stdout",
          "text": [
            "                            OLS Regression Results                            \n",
            "==============================================================================\n",
            "Dep. Variable:               life_log   R-squared:                       0.803\n",
            "Model:                            OLS   Adj. R-squared:                  0.794\n",
            "Method:                 Least Squares   F-statistic:                     81.77\n",
            "Date:                Mon, 28 Mar 2022   Prob (F-statistic):           1.67e-08\n",
            "Time:                        17:51:31   Log-Likelihood:                 87.506\n",
            "No. Observations:                  22   AIC:                            -171.0\n",
            "Df Residuals:                      20   BIC:                            -168.8\n",
            "Df Model:                           1                                         \n",
            "Covariance Type:            nonrobust                                         \n",
            "==============================================================================\n",
            "                 coef    std err          t      P>|t|      [0.025      0.975]\n",
            "------------------------------------------------------------------------------\n",
            "Intercept      1.4563      0.321      4.534      0.000       0.786       2.126\n",
            "year           0.0014      0.000      9.043      0.000       0.001       0.002\n",
            "==============================================================================\n",
            "Omnibus:                        1.672   Durbin-Watson:                   0.169\n",
            "Prob(Omnibus):                  0.433   Jarque-Bera (JB):                1.327\n",
            "Skew:                          -0.420   Prob(JB):                        0.515\n",
            "Kurtosis:                       2.140   Cond. No.                     6.37e+05\n",
            "==============================================================================\n",
            "\n",
            "Warnings:\n",
            "[1] Standard Errors assume that the covariance matrix of the errors is correctly specified.\n",
            "[2] The condition number is large, 6.37e+05. This might indicate that there are\n",
            "strong multicollinearity or other numerical problems.\n"
          ]
        }
      ]
    },
    {
      "cell_type": "markdown",
      "source": [
        ""
      ],
      "metadata": {
        "id": "rPWUEkyxqTIx"
      }
    },
    {
      "cell_type": "code",
      "source": [
        "model= ols(\"life_expct ~ year\", data=new_usa).fit()\n",
        "print(model.summary())"
      ],
      "metadata": {
        "colab": {
          "base_uri": "https://localhost:8080/"
        },
        "id": "blZQFIE_p4M0",
        "outputId": "44032d3f-93c5-45a2-b8f1-f46b64257ca5"
      },
      "execution_count": null,
      "outputs": [
        {
          "output_type": "stream",
          "name": "stdout",
          "text": [
            "                            OLS Regression Results                            \n",
            "==============================================================================\n",
            "Dep. Variable:             life_expct   R-squared:                       0.804\n",
            "Model:                            OLS   Adj. R-squared:                  0.794\n",
            "Method:                 Least Squares   F-statistic:                     81.87\n",
            "Date:                Mon, 28 Mar 2022   Prob (F-statistic):           1.65e-08\n",
            "Time:                        17:52:40   Log-Likelihood:                -8.3442\n",
            "No. Observations:                  22   AIC:                             20.69\n",
            "Df Residuals:                      20   BIC:                             22.87\n",
            "Df Model:                           1                                         \n",
            "Covariance Type:            nonrobust                                         \n",
            "==============================================================================\n",
            "                 coef    std err          t      P>|t|      [0.025      0.975]\n",
            "------------------------------------------------------------------------------\n",
            "Intercept   -148.4018     25.055     -5.923      0.000    -200.665     -96.138\n",
            "year           0.1128      0.012      9.048      0.000       0.087       0.139\n",
            "==============================================================================\n",
            "Omnibus:                        1.604   Durbin-Watson:                   0.170\n",
            "Prob(Omnibus):                  0.448   Jarque-Bera (JB):                1.299\n",
            "Skew:                          -0.420   Prob(JB):                        0.522\n",
            "Kurtosis:                       2.156   Cond. No.                     6.37e+05\n",
            "==============================================================================\n",
            "\n",
            "Warnings:\n",
            "[1] Standard Errors assume that the covariance matrix of the errors is correctly specified.\n",
            "[2] The condition number is large, 6.37e+05. This might indicate that there are\n",
            "strong multicollinearity or other numerical problems.\n"
          ]
        }
      ]
    },
    {
      "cell_type": "code",
      "source": [
        ""
      ],
      "metadata": {
        "id": "n0at3OqrqJCk"
      },
      "execution_count": null,
      "outputs": []
    }
  ],
  "metadata": {
    "colab": {
      "collapsed_sections": [],
      "name": "DS_132_Inference_For_Regression_DS38.ipynb",
      "provenance": [],
      "include_colab_link": true
    },
    "kernelspec": {
      "display_name": "Python 3",
      "language": "python",
      "name": "python3"
    },
    "language_info": {
      "codemirror_mode": {
        "name": "ipython",
        "version": 3
      },
      "file_extension": ".py",
      "mimetype": "text/x-python",
      "name": "python",
      "nbconvert_exporter": "python",
      "pygments_lexer": "ipython3",
      "version": "3.8.8"
    }
  },
  "nbformat": 4,
  "nbformat_minor": 0
}